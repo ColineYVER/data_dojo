{
 "cells": [
  {
   "cell_type": "markdown",
   "metadata": {},
   "source": [
    "![title](house_prices.jpg)"
   ]
  },
  {
   "cell_type": "code",
   "execution_count": null,
   "metadata": {
    "collapsed": true
   },
   "outputs": [],
   "source": [
    "import pandas as pd\n",
    "import numpy as np\n",
    "from sklearn.tree import DecisionTreeRegressor\n",
    "from sklearn.ensemble import RandomForestRegressor\n",
    "from sklearn.ensemble import GradientBoostingRegressor\n",
    "from sklearn.model_selection import train_test_split, GridSearchCV, KFold\n",
    "from sklearn.metrics import r2_score, mean_absolute_error\n",
    "from sklearn.preprocessing import Imputer\n",
    "from itertools import product\n",
    "import seaborn as sns\n",
    "%matplotlib inline\n",
    "from sklearn.tree import export_graphviz\n",
    "import graphviz"
   ]
  },
  {
   "cell_type": "markdown",
   "metadata": {},
   "source": [
    "# Data loading and cleaning"
   ]
  },
  {
   "cell_type": "markdown",
   "metadata": {},
   "source": [
    "## Data loading"
   ]
  },
  {
   "cell_type": "code",
   "execution_count": null,
   "metadata": {
    "collapsed": true,
    "scrolled": true
   },
   "outputs": [],
   "source": [
    "df = pd.read_csv(\"house_sales_prices.csv\")"
   ]
  },
  {
   "cell_type": "code",
   "execution_count": null,
   "metadata": {
    "collapsed": true,
    "scrolled": false
   },
   "outputs": [],
   "source": [
    "df.head()"
   ]
  },
  {
   "cell_type": "code",
   "execution_count": null,
   "metadata": {
    "collapsed": true
   },
   "outputs": [],
   "source": [
    "df.describe()"
   ]
  },
  {
   "cell_type": "markdown",
   "metadata": {},
   "source": [
    "## Retrait valeurs manquantes"
   ]
  },
  {
   "cell_type": "code",
   "execution_count": null,
   "metadata": {
    "collapsed": true
   },
   "outputs": [],
   "source": [
    "df_with_dropped_na = None #TODO: enlever toutes les colonnes contenant des valeurs manquantes"
   ]
  },
  {
   "cell_type": "code",
   "execution_count": null,
   "metadata": {
    "collapsed": true
   },
   "outputs": [],
   "source": [
    "df_with_dropped_na.head()"
   ]
  },
  {
   "cell_type": "markdown",
   "metadata": {},
   "source": [
    "## Conserver seulement les colonnes numériques"
   ]
  },
  {
   "cell_type": "code",
   "execution_count": null,
   "metadata": {
    "collapsed": true
   },
   "outputs": [],
   "source": [
    "df_with_dropped_na.dtypes.head(12)"
   ]
  },
  {
   "cell_type": "code",
   "execution_count": null,
   "metadata": {
    "collapsed": true
   },
   "outputs": [],
   "source": [
    "numerics = ['int16', 'int32', 'int64', 'float16', 'float32', 'float64']\n",
    "\n",
    "df_numeric = None #TODO: sélectionner seulement les colonnes dont le type est numérique"
   ]
  },
  {
   "cell_type": "code",
   "execution_count": null,
   "metadata": {
    "collapsed": true
   },
   "outputs": [],
   "source": []
  },
  {
   "cell_type": "markdown",
   "metadata": {},
   "source": [
    "# Data visualization"
   ]
  },
  {
   "cell_type": "code",
   "execution_count": null,
   "metadata": {
    "collapsed": true,
    "scrolled": true
   },
   "outputs": [],
   "source": [
    "sns.distplot(df_numeric.SalePrice)"
   ]
  },
  {
   "cell_type": "code",
   "execution_count": null,
   "metadata": {
    "collapsed": true
   },
   "outputs": [],
   "source": [
    "correlations = df_numeric.corr()\n",
    "most_correlated_features = correlations[\"SalePrice\"].sort_values(ascending=False)[:15]\n",
    "most_correlated_features"
   ]
  },
  {
   "cell_type": "code",
   "execution_count": null,
   "metadata": {
    "collapsed": true
   },
   "outputs": [],
   "source": [
    "correlations_most_correlated_features = df_numeric[most_correlated_features.index].corr()\n",
    "sns.heatmap(correlations_most_correlated_features, cmap=\"coolwarm\")"
   ]
  },
  {
   "cell_type": "code",
   "execution_count": null,
   "metadata": {
    "collapsed": true
   },
   "outputs": [],
   "source": [
    "sns.boxplot(x=df_numeric.OverallQual, y=df_numeric.SalePrice)"
   ]
  },
  {
   "cell_type": "code",
   "execution_count": null,
   "metadata": {
    "collapsed": true,
    "scrolled": true
   },
   "outputs": [],
   "source": [
    "sns.regplot(x=df_numeric.GrLivArea, y=df_numeric.SalePrice, color=\"green\")"
   ]
  },
  {
   "cell_type": "code",
   "execution_count": null,
   "metadata": {
    "collapsed": true
   },
   "outputs": [],
   "source": [
    "sns.pairplot(df_numeric[most_correlated_features.index[:8]])"
   ]
  },
  {
   "cell_type": "markdown",
   "metadata": {},
   "source": [
    "# Premier modèle"
   ]
  },
  {
   "cell_type": "markdown",
   "metadata": {},
   "source": [
    "## Cible et variables explicatives"
   ]
  },
  {
   "cell_type": "code",
   "execution_count": null,
   "metadata": {
    "collapsed": true
   },
   "outputs": [],
   "source": [
    "target = \"SalePrice\"\n",
    "y = df_numeric[target]"
   ]
  },
  {
   "cell_type": "code",
   "execution_count": null,
   "metadata": {
    "collapsed": true
   },
   "outputs": [],
   "source": [
    "x = df_numeric.drop(target, axis=1)\n",
    "features = x.columns.tolist()\n",
    "x.head()"
   ]
  },
  {
   "cell_type": "markdown",
   "metadata": {},
   "source": [
    "## Séparation des données d'entraînement et de test"
   ]
  },
  {
   "cell_type": "markdown",
   "metadata": {},
   "source": [
    "![title](training_test.png)"
   ]
  },
  {
   "cell_type": "code",
   "execution_count": null,
   "metadata": {
    "collapsed": true
   },
   "outputs": [],
   "source": [
    "test_size_ratio = 0.2\n",
    "random_state = 123\n",
    "x_train, x_test, y_train, y_test = (None, None, None, None)\n",
    "#TODO: créer les ensembles d'entraînement et de test,\n",
    "#avec 80% de données d'entraînement et 20% de données de test"
   ]
  },
  {
   "cell_type": "code",
   "execution_count": null,
   "metadata": {
    "collapsed": true
   },
   "outputs": [],
   "source": [
    "x_train.shape, x_test.shape"
   ]
  },
  {
   "cell_type": "markdown",
   "metadata": {},
   "source": [
    "## Entraînement du modèle"
   ]
  },
  {
   "cell_type": "code",
   "execution_count": null,
   "metadata": {
    "collapsed": true
   },
   "outputs": [],
   "source": [
    "tree_model = DecisionTreeRegressor(max_depth=8)"
   ]
  },
  {
   "cell_type": "code",
   "execution_count": null,
   "metadata": {
    "collapsed": true
   },
   "outputs": [],
   "source": [
    "#TODO: entraîner le modèle sur les données d'entraînement"
   ]
  },
  {
   "cell_type": "markdown",
   "metadata": {},
   "source": [
    "## Prédictions sur l'ensemble d'apprentissage"
   ]
  },
  {
   "cell_type": "code",
   "execution_count": null,
   "metadata": {
    "collapsed": true
   },
   "outputs": [],
   "source": [
    "predictions_train = tree_model.predict(x_train)\n",
    "r2_score(predictions_train, y_train)"
   ]
  },
  {
   "cell_type": "code",
   "execution_count": null,
   "metadata": {
    "collapsed": true
   },
   "outputs": [],
   "source": [
    "predictions_vs_realite_train = pd.DataFrame({\"predictions sur ensemble d'entrainement\": predictions_train,\n",
    "                                           \"valeurs ensemble d'entrainement\": y_train})\n",
    "predictions_vs_realite_train.head(15)"
   ]
  },
  {
   "cell_type": "code",
   "execution_count": null,
   "metadata": {
    "collapsed": true,
    "scrolled": true
   },
   "outputs": [],
   "source": [
    "predictions_vs_realite_train.plot.scatter(x=\"predictions sur ensemble d'entrainement\", y=\"valeurs ensemble d'entrainement\")"
   ]
  },
  {
   "cell_type": "markdown",
   "metadata": {},
   "source": [
    "## Predictions sur l'ensemble de test"
   ]
  },
  {
   "cell_type": "code",
   "execution_count": null,
   "metadata": {
    "collapsed": true
   },
   "outputs": [],
   "source": [
    "predictions = None # TODO\n",
    "r2_score(predictions, y_test)"
   ]
  },
  {
   "cell_type": "code",
   "execution_count": null,
   "metadata": {
    "collapsed": true
   },
   "outputs": [],
   "source": [
    "predictions_vs_realite = None #TODO\n",
    "predictions_vs_realite.plot.scatter(x=\"predictions sur ensemble de test\", y=\"valeurs ensemble de test\")"
   ]
  },
  {
   "cell_type": "code",
   "execution_count": null,
   "metadata": {
    "collapsed": true
   },
   "outputs": [],
   "source": [
    "predictions_vs_realite = pd.DataFrame({\"predictions sur ensemble de test\": predictions,\n",
    "                                       \"valeurs ensemble de test\": y_test})\n",
    "predictions_vs_realite.plot.scatter(x=\"predictions sur ensemble de test\", y=\"valeurs ensemble de test\")"
   ]
  },
  {
   "cell_type": "markdown",
   "metadata": {},
   "source": [
    "## Jetons un oeil à l'arbre"
   ]
  },
  {
   "cell_type": "code",
   "execution_count": null,
   "metadata": {
    "collapsed": true
   },
   "outputs": [],
   "source": [
    "dot_data_tree = export_graphviz(tree_model, out_file=None, \n",
    "                         feature_names=features,  \n",
    "                         filled=True, rounded=True,  \n",
    "                         special_characters=True) \n",
    "graphviz.Source(dot_data_tree)"
   ]
  },
  {
   "cell_type": "markdown",
   "metadata": {},
   "source": [
    "# Recherche des meilleurs paramètres"
   ]
  },
  {
   "cell_type": "markdown",
   "metadata": {},
   "source": [
    "![titile](training_and_test.png)"
   ]
  },
  {
   "cell_type": "code",
   "execution_count": null,
   "metadata": {
    "collapsed": true
   },
   "outputs": [],
   "source": [
    "x_training, x_val, y_training, y_val = train_test_split(x_train, y_train)"
   ]
  },
  {
   "cell_type": "code",
   "execution_count": null,
   "metadata": {
    "collapsed": true
   },
   "outputs": [],
   "source": [
    "params_grid = {\"max_depth\": [None] + list(range(2, 12)), \n",
    "               \"min_samples_split\": np.linspace(0.001, 0.1, 25), \n",
    "               \"min_samples_leaf\": np.linspace(0.001, 0.1, 25)}\n",
    "params_combinations = list(map(lambda l: {\"max_depth\": l[0], \n",
    "                                          \"min_samples_split\": l[1],\n",
    "                                          \"min_samples_leaf\": l[2]},\n",
    "                               list(product(*(params_grid[key] for key in params_grid)))))"
   ]
  },
  {
   "cell_type": "code",
   "execution_count": null,
   "metadata": {
    "collapsed": true
   },
   "outputs": [],
   "source": [
    "def get_score(params):\n",
    "    #TODO: retourne score R2 sur l'ensemble de validation, après entraînement sur l'ensemble d'entraînement\n",
    "    return 0"
   ]
  },
  {
   "cell_type": "code",
   "execution_count": null,
   "metadata": {
    "collapsed": true
   },
   "outputs": [],
   "source": [
    "scores = list(map(get_score, params_combinations))"
   ]
  },
  {
   "cell_type": "code",
   "execution_count": null,
   "metadata": {
    "collapsed": true,
    "scrolled": true
   },
   "outputs": [],
   "source": [
    "max_score = max(scores)\n",
    "print(\"Score du meilleur modèle: %s\" % max_score)\n",
    "best_score_index = scores.index(max_score)\n",
    "best_params = params_combinations[best_score_index]\n",
    "best_tree = DecisionTreeRegressor(**best_params).fit(x_train, y_train)\n",
    "print(\"Score du meilleur modèle sur l'ensemble de test: %s\" % best_tree.score(x_test, y_test))\n",
    "\n",
    "print(\"Meilleurs paramètres: %s\" % best_params)"
   ]
  },
  {
   "cell_type": "code",
   "execution_count": null,
   "metadata": {
    "collapsed": true
   },
   "outputs": [],
   "source": [
    "predictions_best_tree_vs_realite = pd.DataFrame({\"predictions sur ensemble de test\": best_tree.predict(x_test),\n",
    "                                       \"valeurs ensemble de test\": y_test})\n",
    "predictions_best_tree_vs_realite.plot.scatter(x=\"predictions sur ensemble de test\", y=\"valeurs ensemble de test\")"
   ]
  },
  {
   "cell_type": "markdown",
   "metadata": {},
   "source": [
    "# Validation croisée"
   ]
  },
  {
   "cell_type": "markdown",
   "metadata": {},
   "source": [
    "![title](kfolds.jpg)"
   ]
  },
  {
   "cell_type": "code",
   "execution_count": null,
   "metadata": {
    "collapsed": true
   },
   "outputs": [],
   "source": [
    "def get_cross_val_score(params):\n",
    "    scores = []\n",
    "    x_train_matrix = x_train.as_matrix()\n",
    "    y_train_matrix = y_train.as_matrix()\n",
    "    kfold = KFold(n_splits=6)\n",
    "    for train_indices, val_indices in kfold.split(x_train_reindexed):\n",
    "        x_train_k = x_train_matrix[train_indices, :]\n",
    "        y_train_k = y_train_matrix[train_indices]\n",
    "        x_val_k = x_train_matrix[val_indices, :]\n",
    "        y_val_k = y_train_matrix[val_indices]\n",
    "        \n",
    "        #TODO: ajouter le score du modèle entraîné sur le sous-ensemble d'entraînement,\n",
    "        #appliqué sur le sous-ensemble de validation, à la liste des scores\n",
    "    return np.mean(scores)"
   ]
  },
  {
   "cell_type": "code",
   "execution_count": null,
   "metadata": {
    "collapsed": true
   },
   "outputs": [],
   "source": [
    "get_cross_val_score(best_params)"
   ]
  },
  {
   "cell_type": "code",
   "execution_count": null,
   "metadata": {
    "collapsed": true
   },
   "outputs": [],
   "source": [
    "cv_scores = list(map(get_cross_val_score, params_combinations))"
   ]
  },
  {
   "cell_type": "code",
   "execution_count": null,
   "metadata": {
    "collapsed": true
   },
   "outputs": [],
   "source": [
    "max_score_cv = max(cv_scores)\n",
    "print(\"Score du meilleur modèle: %s\" % max_score_cv)\n",
    "best_score_index_cv = cv_scores.index(max_score_cv)\n",
    "best_params_cv = params_combinations[best_score_index_cv]\n",
    "best_tree_cv = DecisionTreeRegressor(**best_params_cv).fit(x_train, y_train)\n",
    "print(\"Score du meilleur modèle sur l'ensemble de test: %s\" % best_tree_cv.score(x_test, y_test))\n",
    "\n",
    "print(\"Meilleurs paramètres: %s\" % best_params_cv)"
   ]
  },
  {
   "cell_type": "code",
   "execution_count": null,
   "metadata": {
    "collapsed": true
   },
   "outputs": [],
   "source": [
    "predictions_vs_realite_cv = pd.DataFrame({\"predictions sur ensemble de test\": best_tree.predict(x_test),\n",
    "                                       \"valeurs ensemble de test\": y_test})\n",
    "predictions_best_tree_vs_realite.plot.scatter(x=\"predictions sur ensemble de test\", y=\"valeurs ensemble de test\")"
   ]
  },
  {
   "cell_type": "code",
   "execution_count": null,
   "metadata": {
    "collapsed": true,
    "scrolled": false
   },
   "outputs": [],
   "source": [
    "dot_data = export_graphviz(best_tree_cv, out_file=None, \n",
    "                         feature_names=features,  \n",
    "                         filled=True, rounded=True,  \n",
    "                         special_characters=True) \n",
    "graphviz.Source(dot_data)"
   ]
  },
  {
   "cell_type": "markdown",
   "metadata": {},
   "source": [
    "# Foret"
   ]
  },
  {
   "cell_type": "markdown",
   "metadata": {},
   "source": [
    "![title](random_forest.png)"
   ]
  },
  {
   "cell_type": "code",
   "execution_count": null,
   "metadata": {
    "collapsed": true
   },
   "outputs": [],
   "source": [
    "n_samples = 1000\n",
    "sample_size = 1000\n",
    "pool_size = x_train.shape[0]\n",
    "\n",
    "def get_bootstrap_sample(pool_size=pool_size, sample_size=sample_size):\n",
    "    return np.random.choice(range(pool_size), size=sample_size, replace=True)\n",
    "\n",
    "samples = [get_bootstrap_sample() for _ in range(n_samples)]"
   ]
  },
  {
   "cell_type": "code",
   "execution_count": null,
   "metadata": {
    "collapsed": true
   },
   "outputs": [],
   "source": [
    "def train_individual_tree(sample):\n",
    "    x_train_sample = x_train.as_matrix()[sample, :]\n",
    "    y_train_sample = y_train.as_matrix()[sample]\n",
    "    tree_sample = DecisionTreeRegressor(max_depth=50)\n",
    "    return tree_sample.fit(x_train_sample, y_train_sample)\n",
    "    \n",
    "tree_samples = list(map(train_individual_tree, samples))"
   ]
  },
  {
   "cell_type": "code",
   "execution_count": null,
   "metadata": {
    "collapsed": true
   },
   "outputs": [],
   "source": [
    "predictions_tree_samples = None\n",
    "#TODO: récupérer la liste des prédictions de chacun des arbres sur x_test"
   ]
  },
  {
   "cell_type": "code",
   "execution_count": null,
   "metadata": {
    "collapsed": true
   },
   "outputs": [],
   "source": [
    "bootstrap_aggregation_predictions = sum(predictions_tree_samples) / n_samples\n",
    "r2_score(y_test, bootstrap_aggregation_predictions)"
   ]
  },
  {
   "cell_type": "code",
   "execution_count": null,
   "metadata": {
    "collapsed": true
   },
   "outputs": [],
   "source": [
    "predictions_vs_realite_bootstrap_aggregation = pd.DataFrame({\"predictions sur ensemble de test\": bootstrap_aggregation_predictions,\n",
    "                                       \"valeurs ensemble de test\": y_test})\n",
    "predictions_vs_realite_bootstrap_aggregation.plot.scatter(x=\"predictions sur ensemble de test\", y=\"valeurs ensemble de test\")"
   ]
  },
  {
   "cell_type": "markdown",
   "metadata": {},
   "source": [
    "## Feature sampling"
   ]
  },
  {
   "cell_type": "code",
   "execution_count": null,
   "metadata": {
    "collapsed": true
   },
   "outputs": [],
   "source": [
    "frac = 0.8\n",
    "num_features = x_train.shape[1]\n",
    "\n",
    "\n",
    "def get_feature_sample(num_features=num_features, frac=frac):\n",
    "    #TODO: retourner un échantillon d'une proportion frac des variables explicatives, \n",
    "    #sans replacement\n",
    "    return []\n",
    "feature_samples = [get_feature_sample() for _ in range(n_samples)]"
   ]
  },
  {
   "cell_type": "code",
   "execution_count": null,
   "metadata": {
    "collapsed": true
   },
   "outputs": [],
   "source": [
    "def train_individual_tree_bagging(sample, feature_sample):\n",
    "    x_train_sample = x_train.as_matrix()[sample, :][:, feature_sample]\n",
    "    y_train_sample = y_train.as_matrix()[sample]\n",
    "    tree_sample = DecisionTreeRegressor(max_depth=50)\n",
    "    return tree_sample.fit(x_train_sample, y_train_sample)\n",
    "    \n",
    "tree_samples_features = list(map(lambda s: train_individual_tree_bagging(s[0], s[1]), \n",
    "                        zip(samples, feature_samples)))"
   ]
  },
  {
   "cell_type": "code",
   "execution_count": null,
   "metadata": {
    "collapsed": true
   },
   "outputs": [],
   "source": [
    "predictions_tree_bagging = list(map(lambda s: s[0].predict(x_test.as_matrix()[:, s[1]]), \n",
    "                                             zip(tree_samples_features, feature_samples)))"
   ]
  },
  {
   "cell_type": "code",
   "execution_count": null,
   "metadata": {
    "collapsed": true
   },
   "outputs": [],
   "source": [
    "bagging_predictions = sum(predictions_tree_bagging) / n_samples\n",
    "r2_score(y_test, bagging_predictions)"
   ]
  },
  {
   "cell_type": "code",
   "execution_count": null,
   "metadata": {
    "collapsed": true
   },
   "outputs": [],
   "source": [
    "predictions_vs_realite_bagging = pd.DataFrame({\"predictions sur ensemble de test\": bagging_predictions,\n",
    "                                       \"valeurs ensemble de test\": y_test})\n",
    "predictions_vs_realite_bagging.plot.scatter(x=\"predictions sur ensemble de test\", y=\"valeurs ensemble de test\")"
   ]
  },
  {
   "cell_type": "markdown",
   "metadata": {},
   "source": [
    "## Comparison with sklearn random forest"
   ]
  },
  {
   "cell_type": "code",
   "execution_count": null,
   "metadata": {
    "collapsed": true
   },
   "outputs": [],
   "source": [
    "rf = RandomForestRegressor(max_depth=50, n_estimators=1000, n_jobs=-1)"
   ]
  },
  {
   "cell_type": "code",
   "execution_count": null,
   "metadata": {
    "collapsed": true
   },
   "outputs": [],
   "source": [
    "rf.fit(x_train, y_train)"
   ]
  },
  {
   "cell_type": "code",
   "execution_count": null,
   "metadata": {
    "collapsed": true
   },
   "outputs": [],
   "source": [
    "rf.score(x_test, y_test)"
   ]
  },
  {
   "cell_type": "code",
   "execution_count": null,
   "metadata": {
    "collapsed": true
   },
   "outputs": [],
   "source": [
    "scores = {}\n",
    "for n in range(100, 2000, 100):\n",
    "    #TODO: calculer le score du rf sur y_test, avec n estimateurs\n",
    "sns.tsplot(data=list(scores.values()))"
   ]
  },
  {
   "cell_type": "markdown",
   "metadata": {},
   "source": [
    "# Boosting"
   ]
  },
  {
   "cell_type": "markdown",
   "metadata": {},
   "source": [
    "![title](boosting_trees.png)"
   ]
  },
  {
   "cell_type": "code",
   "execution_count": null,
   "metadata": {
    "collapsed": true
   },
   "outputs": [],
   "source": [
    "def boost_tree(n=30, max_depth=2):\n",
    "    trees = []\n",
    "    current_residuals_to_predict = y_train\n",
    "    for i in range(n):\n",
    "        #TODO: entraîner un arbre à apprendre le résidu d'erreur courrants,\n",
    "        #ajouter l'arbre à la liste d'arbres, et updater le résidu \n",
    "        #en soustrayant les prédictions de l'arbre\n",
    "    return trees\n"
   ]
  },
  {
   "cell_type": "code",
   "execution_count": null,
   "metadata": {
    "collapsed": true
   },
   "outputs": [],
   "source": [
    "boosting_predictions = np.sum(list(map(lambda t: t.predict(x_test), trees)), axis=0)\n",
    "r2_score(y_test, boosting_predictions)"
   ]
  },
  {
   "cell_type": "code",
   "execution_count": null,
   "metadata": {},
   "outputs": [],
   "source": [
    "predictions_per_tree_number = pd.DataFrame({\"cible\": y_train,\n",
    "                                 \"predictions un arbre\": trees[0].predict(x_train),\n",
    "                                 \"predictions deux arbre\": trees[0].predict(x_train) + trees[1].predict(x_train),\n",
    "                                 \"predictions dix arbre\": np.sum(list(map(lambda t: t.predict(x_train), trees[:10])), axis=0),\n",
    "                                 \"predictions tous les arbre\": np.sum(list(map(lambda t: t.predict(x_train), trees)), axis=0)})\n",
    "predictions_per_tree_number.head()"
   ]
  },
  {
   "cell_type": "code",
   "execution_count": null,
   "metadata": {
    "collapsed": true
   },
   "outputs": [],
   "source": []
  },
  {
   "cell_type": "markdown",
   "metadata": {},
   "source": [
    "## GBM de sklearn"
   ]
  },
  {
   "cell_type": "code",
   "execution_count": null,
   "metadata": {
    "collapsed": true
   },
   "outputs": [],
   "source": [
    "gbm = GradientBoostingRegressor(n_estimators=100, criterion=\"mse\")\n",
    "gbm.fit(x_train, y_train)"
   ]
  },
  {
   "cell_type": "code",
   "execution_count": null,
   "metadata": {
    "collapsed": true
   },
   "outputs": [],
   "source": [
    "gbm.score(x_test, y_test)"
   ]
  },
  {
   "cell_type": "markdown",
   "metadata": {
    "collapsed": true
   },
   "source": [
    "# Feature engineering"
   ]
  },
  {
   "cell_type": "markdown",
   "metadata": {},
   "source": [
    "## Imputation des valeurs manquantes"
   ]
  },
  {
   "cell_type": "markdown",
   "metadata": {},
   "source": [
    "TODO: récupérer les données de départ, et remplacer les valeurs manquantes par la moyenne ou la médianne des valeurs de la colonne"
   ]
  },
  {
   "cell_type": "markdown",
   "metadata": {},
   "source": [
    "## Dummification"
   ]
  },
  {
   "cell_type": "markdown",
   "metadata": {
    "collapsed": true
   },
   "source": [
    "TODO: Remplacer les colonnes contenant des variables catégorielles par des colonnes contenant des 0 et des 1, indicant si l'échangillon appartient ou non à la catégorie"
   ]
  },
  {
   "cell_type": "code",
   "execution_count": null,
   "metadata": {
    "collapsed": true
   },
   "outputs": [],
   "source": []
  }
 ],
 "metadata": {
  "kernelspec": {
   "display_name": "Python 3",
   "language": "python",
   "name": "python3"
  },
  "language_info": {
   "codemirror_mode": {
    "name": "ipython",
    "version": 3
   },
   "file_extension": ".py",
   "mimetype": "text/x-python",
   "name": "python",
   "nbconvert_exporter": "python",
   "pygments_lexer": "ipython3",
   "version": "3.6.3"
  }
 },
 "nbformat": 4,
 "nbformat_minor": 2
}
