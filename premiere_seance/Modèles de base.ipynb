{
 "cells": [
  {
   "cell_type": "code",
   "execution_count": 28,
   "metadata": {
    "collapsed": true
   },
   "outputs": [],
   "source": [
    "import pandas as pd\n",
    "import numpy as np\n",
    "import seaborn as sns\n",
    "import plotly.plotly as py\n",
    "import plotly.graph_objs as go\n",
    "from sklearn import datasets\n",
    "from sklearn.neighbors import KNeighborsClassifier\n",
    "from sklearn.tree import DecisionTreeClassifier, DecisionTreeRegressor\n",
    "from sklearn.linear_model import LinearRegression\n",
    "from sklearn.model_selection import train_test_split\n",
    "%matplotlib inline"
   ]
  },
  {
   "cell_type": "markdown",
   "metadata": {},
   "source": [
    "# Classification"
   ]
  },
  {
   "cell_type": "code",
   "execution_count": 29,
   "metadata": {
    "collapsed": true
   },
   "outputs": [],
   "source": [
    "wine_data = datasets.load_wine()"
   ]
  },
  {
   "cell_type": "code",
   "execution_count": 30,
   "metadata": {
    "scrolled": true
   },
   "outputs": [
    {
     "data": {
      "text/plain": [
       "['alcohol',\n",
       " 'malic_acid',\n",
       " 'ash',\n",
       " 'alcalinity_of_ash',\n",
       " 'magnesium',\n",
       " 'total_phenols',\n",
       " 'flavanoids',\n",
       " 'nonflavanoid_phenols',\n",
       " 'proanthocyanins',\n",
       " 'color_intensity',\n",
       " 'hue',\n",
       " 'od280/od315_of_diluted_wines',\n",
       " 'proline']"
      ]
     },
     "execution_count": 30,
     "metadata": {},
     "output_type": "execute_result"
    }
   ],
   "source": [
    "wine_data.feature_names"
   ]
  },
  {
   "cell_type": "markdown",
   "metadata": {},
   "source": [
    "## Look at a few rows"
   ]
  },
  {
   "cell_type": "code",
   "execution_count": 12,
   "metadata": {
    "collapsed": true
   },
   "outputs": [],
   "source": [
    "feature1_index = 6\n",
    "feature2_index = 0"
   ]
  },
  {
   "cell_type": "code",
   "execution_count": 13,
   "metadata": {
    "collapsed": true
   },
   "outputs": [],
   "source": [
    "random_index = np.random.randint(low=0, high=len(wine_data.target), size=10)"
   ]
  },
  {
   "cell_type": "code",
   "execution_count": 14,
   "metadata": {},
   "outputs": [
    {
     "data": {
      "text/html": [
       "<div>\n",
       "<style>\n",
       "    .dataframe thead tr:only-child th {\n",
       "        text-align: right;\n",
       "    }\n",
       "\n",
       "    .dataframe thead th {\n",
       "        text-align: left;\n",
       "    }\n",
       "\n",
       "    .dataframe tbody tr th {\n",
       "        vertical-align: top;\n",
       "    }\n",
       "</style>\n",
       "<table border=\"1\" class=\"dataframe\">\n",
       "  <thead>\n",
       "    <tr style=\"text-align: right;\">\n",
       "      <th></th>\n",
       "      <th>flavanoids</th>\n",
       "      <th>alcohol</th>\n",
       "      <th>Type de vin</th>\n",
       "    </tr>\n",
       "  </thead>\n",
       "  <tbody>\n",
       "    <tr>\n",
       "      <th>1</th>\n",
       "      <td>2.29</td>\n",
       "      <td>12.08</td>\n",
       "      <td>1</td>\n",
       "    </tr>\n",
       "    <tr>\n",
       "      <th>2</th>\n",
       "      <td>2.99</td>\n",
       "      <td>12.29</td>\n",
       "      <td>1</td>\n",
       "    </tr>\n",
       "    <tr>\n",
       "      <th>3</th>\n",
       "      <td>2.21</td>\n",
       "      <td>11.84</td>\n",
       "      <td>1</td>\n",
       "    </tr>\n",
       "    <tr>\n",
       "      <th>4</th>\n",
       "      <td>1.60</td>\n",
       "      <td>11.82</td>\n",
       "      <td>1</td>\n",
       "    </tr>\n",
       "    <tr>\n",
       "      <th>5</th>\n",
       "      <td>3.24</td>\n",
       "      <td>13.16</td>\n",
       "      <td>0</td>\n",
       "    </tr>\n",
       "    <tr>\n",
       "      <th>6</th>\n",
       "      <td>2.90</td>\n",
       "      <td>13.74</td>\n",
       "      <td>0</td>\n",
       "    </tr>\n",
       "    <tr>\n",
       "      <th>7</th>\n",
       "      <td>2.64</td>\n",
       "      <td>13.07</td>\n",
       "      <td>0</td>\n",
       "    </tr>\n",
       "    <tr>\n",
       "      <th>8</th>\n",
       "      <td>0.50</td>\n",
       "      <td>13.36</td>\n",
       "      <td>2</td>\n",
       "    </tr>\n",
       "    <tr>\n",
       "      <th>9</th>\n",
       "      <td>1.60</td>\n",
       "      <td>11.82</td>\n",
       "      <td>1</td>\n",
       "    </tr>\n",
       "    <tr>\n",
       "      <th>10</th>\n",
       "      <td>2.40</td>\n",
       "      <td>13.20</td>\n",
       "      <td>??</td>\n",
       "    </tr>\n",
       "  </tbody>\n",
       "</table>\n",
       "</div>"
      ],
      "text/plain": [
       "    flavanoids  alcohol Type de vin\n",
       "1         2.29    12.08           1\n",
       "2         2.99    12.29           1\n",
       "3         2.21    11.84           1\n",
       "4         1.60    11.82           1\n",
       "5         3.24    13.16           0\n",
       "6         2.90    13.74           0\n",
       "7         2.64    13.07           0\n",
       "8         0.50    13.36           2\n",
       "9         1.60    11.82           1\n",
       "10        2.40    13.20          ??"
      ]
     },
     "execution_count": 14,
     "metadata": {},
     "output_type": "execute_result"
    }
   ],
   "source": [
    "pd.DataFrame({\n",
    "    wine_data.feature_names[feature1_index]: wine_data.data[random_index, feature1_index].tolist() + [2.4],\n",
    "    wine_data.feature_names[feature2_index]: wine_data.data[random_index, feature2_index].tolist() + [13.2],\n",
    "    \"Type de vin\": wine_data.target[random_index].tolist() + ['??']\n",
    "             })[-10:][[wine_data.feature_names[feature1_index], \n",
    "                      wine_data.feature_names[feature2_index],\n",
    "                     \"Type de vin\"]]"
   ]
  },
  {
   "cell_type": "code",
   "execution_count": 15,
   "metadata": {},
   "outputs": [
    {
     "data": {
      "text/html": [
       "<div>\n",
       "<style>\n",
       "    .dataframe thead tr:only-child th {\n",
       "        text-align: right;\n",
       "    }\n",
       "\n",
       "    .dataframe thead th {\n",
       "        text-align: left;\n",
       "    }\n",
       "\n",
       "    .dataframe tbody tr th {\n",
       "        vertical-align: top;\n",
       "    }\n",
       "</style>\n",
       "<table border=\"1\" class=\"dataframe\">\n",
       "  <thead>\n",
       "    <tr style=\"text-align: right;\">\n",
       "      <th></th>\n",
       "      <th>flavanoids</th>\n",
       "      <th>alcohol</th>\n",
       "      <th>Type de vin</th>\n",
       "    </tr>\n",
       "  </thead>\n",
       "  <tbody>\n",
       "    <tr>\n",
       "      <th>1</th>\n",
       "      <td>2.29</td>\n",
       "      <td>12.08</td>\n",
       "      <td>1</td>\n",
       "    </tr>\n",
       "    <tr>\n",
       "      <th>2</th>\n",
       "      <td>2.99</td>\n",
       "      <td>12.29</td>\n",
       "      <td>1</td>\n",
       "    </tr>\n",
       "    <tr>\n",
       "      <th>3</th>\n",
       "      <td>2.21</td>\n",
       "      <td>11.84</td>\n",
       "      <td>1</td>\n",
       "    </tr>\n",
       "    <tr>\n",
       "      <th>4</th>\n",
       "      <td>1.60</td>\n",
       "      <td>11.82</td>\n",
       "      <td>1</td>\n",
       "    </tr>\n",
       "    <tr>\n",
       "      <th>5</th>\n",
       "      <td>3.24</td>\n",
       "      <td>13.16</td>\n",
       "      <td>0</td>\n",
       "    </tr>\n",
       "    <tr>\n",
       "      <th>6</th>\n",
       "      <td>2.90</td>\n",
       "      <td>13.74</td>\n",
       "      <td>0</td>\n",
       "    </tr>\n",
       "    <tr>\n",
       "      <th>7</th>\n",
       "      <td>2.64</td>\n",
       "      <td>13.07</td>\n",
       "      <td>0</td>\n",
       "    </tr>\n",
       "    <tr>\n",
       "      <th>8</th>\n",
       "      <td>0.50</td>\n",
       "      <td>13.36</td>\n",
       "      <td>2</td>\n",
       "    </tr>\n",
       "    <tr>\n",
       "      <th>9</th>\n",
       "      <td>1.60</td>\n",
       "      <td>11.82</td>\n",
       "      <td>1</td>\n",
       "    </tr>\n",
       "    <tr>\n",
       "      <th>10</th>\n",
       "      <td>3.50</td>\n",
       "      <td>12.10</td>\n",
       "      <td>??</td>\n",
       "    </tr>\n",
       "  </tbody>\n",
       "</table>\n",
       "</div>"
      ],
      "text/plain": [
       "    flavanoids  alcohol Type de vin\n",
       "1         2.29    12.08           1\n",
       "2         2.99    12.29           1\n",
       "3         2.21    11.84           1\n",
       "4         1.60    11.82           1\n",
       "5         3.24    13.16           0\n",
       "6         2.90    13.74           0\n",
       "7         2.64    13.07           0\n",
       "8         0.50    13.36           2\n",
       "9         1.60    11.82           1\n",
       "10        3.50    12.10          ??"
      ]
     },
     "execution_count": 15,
     "metadata": {},
     "output_type": "execute_result"
    }
   ],
   "source": [
    "pd.DataFrame({\n",
    "    wine_data.feature_names[feature1_index]: wine_data.data[random_index, feature1_index].tolist() + [3.5],\n",
    "    wine_data.feature_names[feature2_index]: wine_data.data[random_index, feature2_index].tolist() + [12.1],\n",
    "    \"Type de vin\": wine_data.target[random_index].tolist() + ['??']\n",
    "             })[-10:][[wine_data.feature_names[feature1_index], \n",
    "                      wine_data.feature_names[feature2_index],\n",
    "                     \"Type de vin\"]]"
   ]
  },
  {
   "cell_type": "code",
   "execution_count": 19,
   "metadata": {},
   "outputs": [
    {
     "ename": "PlotlyRequestError",
     "evalue": "Account limit reached: Your account is limited to creating 25 charts. To continue, you can override or delete existing charts or you can upgrade your account at: https://plot.ly/products/cloud",
     "output_type": "error",
     "traceback": [
      "\u001b[0;31m--------------------------------------------\u001b[0m",
      "\u001b[0;31mPlotlyRequestError\u001b[0mTraceback (most recent call last)",
      "\u001b[0;32m<ipython-input-19-3e3903d0091a>\u001b[0m in \u001b[0;36m<module>\u001b[0;34m()\u001b[0m\n\u001b[1;32m     68\u001b[0m \u001b[0;34m\u001b[0m\u001b[0m\n\u001b[1;32m     69\u001b[0m \u001b[0;34m\u001b[0m\u001b[0m\n\u001b[0;32m---> 70\u001b[0;31m \u001b[0mpy\u001b[0m\u001b[0;34m.\u001b[0m\u001b[0miplot\u001b[0m\u001b[0;34m(\u001b[0m\u001b[0;34m{\u001b[0m\u001b[0;34m\"data\"\u001b[0m\u001b[0;34m:\u001b[0m \u001b[0mdata\u001b[0m\u001b[0;34m,\u001b[0m \u001b[0;34m\"layout\"\u001b[0m\u001b[0;34m:\u001b[0m \u001b[0mlayout\u001b[0m\u001b[0;34m}\u001b[0m\u001b[0;34m,\u001b[0m \u001b[0mfilename\u001b[0m\u001b[0;34m=\u001b[0m\u001b[0;34m\"out.png\"\u001b[0m\u001b[0;34m)\u001b[0m\u001b[0;34m\u001b[0m\u001b[0m\n\u001b[0m",
      "\u001b[0;32m~/anaconda3/lib/python3.6/site-packages/plotly/plotly/plotly.py\u001b[0m in \u001b[0;36miplot\u001b[0;34m(figure_or_data, **plot_options)\u001b[0m\n\u001b[1;32m    138\u001b[0m     \u001b[0;32mif\u001b[0m \u001b[0;34m'auto_open'\u001b[0m \u001b[0;32mnot\u001b[0m \u001b[0;32min\u001b[0m \u001b[0mplot_options\u001b[0m\u001b[0;34m:\u001b[0m\u001b[0;34m\u001b[0m\u001b[0m\n\u001b[1;32m    139\u001b[0m         \u001b[0mplot_options\u001b[0m\u001b[0;34m[\u001b[0m\u001b[0;34m'auto_open'\u001b[0m\u001b[0;34m]\u001b[0m \u001b[0;34m=\u001b[0m \u001b[0;32mFalse\u001b[0m\u001b[0;34m\u001b[0m\u001b[0m\n\u001b[0;32m--> 140\u001b[0;31m     \u001b[0murl\u001b[0m \u001b[0;34m=\u001b[0m \u001b[0mplot\u001b[0m\u001b[0;34m(\u001b[0m\u001b[0mfigure_or_data\u001b[0m\u001b[0;34m,\u001b[0m \u001b[0;34m**\u001b[0m\u001b[0mplot_options\u001b[0m\u001b[0;34m)\u001b[0m\u001b[0;34m\u001b[0m\u001b[0m\n\u001b[0m\u001b[1;32m    141\u001b[0m \u001b[0;34m\u001b[0m\u001b[0m\n\u001b[1;32m    142\u001b[0m     \u001b[0;32mif\u001b[0m \u001b[0misinstance\u001b[0m\u001b[0;34m(\u001b[0m\u001b[0mfigure_or_data\u001b[0m\u001b[0;34m,\u001b[0m \u001b[0mdict\u001b[0m\u001b[0;34m)\u001b[0m\u001b[0;34m:\u001b[0m\u001b[0;34m\u001b[0m\u001b[0m\n",
      "\u001b[0;32m~/anaconda3/lib/python3.6/site-packages/plotly/plotly/plotly.py\u001b[0m in \u001b[0;36mplot\u001b[0;34m(figure_or_data, validate, **plot_options)\u001b[0m\n\u001b[1;32m    231\u001b[0m     \u001b[0mdata\u001b[0m \u001b[0;34m=\u001b[0m \u001b[0mfig\u001b[0m\u001b[0;34m.\u001b[0m\u001b[0mget\u001b[0m\u001b[0;34m(\u001b[0m\u001b[0;34m'data'\u001b[0m\u001b[0;34m,\u001b[0m \u001b[0;34m[\u001b[0m\u001b[0;34m]\u001b[0m\u001b[0;34m)\u001b[0m\u001b[0;34m\u001b[0m\u001b[0m\n\u001b[1;32m    232\u001b[0m     \u001b[0mplot_options\u001b[0m\u001b[0;34m[\u001b[0m\u001b[0;34m'layout'\u001b[0m\u001b[0;34m]\u001b[0m \u001b[0;34m=\u001b[0m \u001b[0mfig\u001b[0m\u001b[0;34m.\u001b[0m\u001b[0mget\u001b[0m\u001b[0;34m(\u001b[0m\u001b[0;34m'layout'\u001b[0m\u001b[0;34m,\u001b[0m \u001b[0;34m{\u001b[0m\u001b[0;34m}\u001b[0m\u001b[0;34m)\u001b[0m\u001b[0;34m\u001b[0m\u001b[0m\n\u001b[0;32m--> 233\u001b[0;31m     \u001b[0mresponse\u001b[0m \u001b[0;34m=\u001b[0m \u001b[0mv1\u001b[0m\u001b[0;34m.\u001b[0m\u001b[0mclientresp\u001b[0m\u001b[0;34m(\u001b[0m\u001b[0mdata\u001b[0m\u001b[0;34m,\u001b[0m \u001b[0;34m**\u001b[0m\u001b[0mplot_options\u001b[0m\u001b[0;34m)\u001b[0m\u001b[0;34m\u001b[0m\u001b[0m\n\u001b[0m\u001b[1;32m    234\u001b[0m \u001b[0;34m\u001b[0m\u001b[0m\n\u001b[1;32m    235\u001b[0m     \u001b[0;31m# Check if the url needs a secret key\u001b[0m\u001b[0;34m\u001b[0m\u001b[0;34m\u001b[0m\u001b[0m\n",
      "\u001b[0;32m~/anaconda3/lib/python3.6/site-packages/plotly/api/v1/clientresp.py\u001b[0m in \u001b[0;36mclientresp\u001b[0;34m(data, **kwargs)\u001b[0m\n\u001b[1;32m     33\u001b[0m \u001b[0;34m\u001b[0m\u001b[0m\n\u001b[1;32m     34\u001b[0m     \u001b[0murl\u001b[0m \u001b[0;34m=\u001b[0m \u001b[0;34m'{plotly_domain}/clientresp'\u001b[0m\u001b[0;34m.\u001b[0m\u001b[0mformat\u001b[0m\u001b[0;34m(\u001b[0m\u001b[0;34m**\u001b[0m\u001b[0mcfg\u001b[0m\u001b[0;34m)\u001b[0m\u001b[0;34m\u001b[0m\u001b[0m\n\u001b[0;32m---> 35\u001b[0;31m     \u001b[0mresponse\u001b[0m \u001b[0;34m=\u001b[0m \u001b[0mrequest\u001b[0m\u001b[0;34m(\u001b[0m\u001b[0;34m'post'\u001b[0m\u001b[0;34m,\u001b[0m \u001b[0murl\u001b[0m\u001b[0;34m,\u001b[0m \u001b[0mdata\u001b[0m\u001b[0;34m=\u001b[0m\u001b[0mpayload\u001b[0m\u001b[0;34m)\u001b[0m\u001b[0;34m\u001b[0m\u001b[0m\n\u001b[0m\u001b[1;32m     36\u001b[0m \u001b[0;34m\u001b[0m\u001b[0m\n\u001b[1;32m     37\u001b[0m     \u001b[0;31m# Old functionality, just keeping it around.\u001b[0m\u001b[0;34m\u001b[0m\u001b[0;34m\u001b[0m\u001b[0m\n",
      "\u001b[0;32m~/anaconda3/lib/python3.6/site-packages/plotly/api/v1/utils.py\u001b[0m in \u001b[0;36mrequest\u001b[0;34m(method, url, **kwargs)\u001b[0m\n\u001b[1;32m     84\u001b[0m         \u001b[0mcontent\u001b[0m \u001b[0;34m=\u001b[0m \u001b[0mresponse\u001b[0m\u001b[0;34m.\u001b[0m\u001b[0mcontent\u001b[0m \u001b[0;32mif\u001b[0m \u001b[0mresponse\u001b[0m \u001b[0;32melse\u001b[0m \u001b[0;34m'No content'\u001b[0m\u001b[0;34m\u001b[0m\u001b[0m\n\u001b[1;32m     85\u001b[0m         \u001b[0;32mraise\u001b[0m \u001b[0mexceptions\u001b[0m\u001b[0;34m.\u001b[0m\u001b[0mPlotlyRequestError\u001b[0m\u001b[0;34m(\u001b[0m\u001b[0mmessage\u001b[0m\u001b[0;34m,\u001b[0m \u001b[0mstatus_code\u001b[0m\u001b[0;34m,\u001b[0m \u001b[0mcontent\u001b[0m\u001b[0;34m)\u001b[0m\u001b[0;34m\u001b[0m\u001b[0m\n\u001b[0;32m---> 86\u001b[0;31m     \u001b[0mvalidate_response\u001b[0m\u001b[0;34m(\u001b[0m\u001b[0mresponse\u001b[0m\u001b[0;34m)\u001b[0m\u001b[0;34m\u001b[0m\u001b[0m\n\u001b[0m\u001b[1;32m     87\u001b[0m     \u001b[0;32mreturn\u001b[0m \u001b[0mresponse\u001b[0m\u001b[0;34m\u001b[0m\u001b[0m\n",
      "\u001b[0;32m~/anaconda3/lib/python3.6/site-packages/plotly/api/v1/utils.py\u001b[0m in \u001b[0;36mvalidate_response\u001b[0;34m(response)\u001b[0m\n\u001b[1;32m     36\u001b[0m         \u001b[0mmessage\u001b[0m \u001b[0;34m=\u001b[0m \u001b[0mcontent\u001b[0m \u001b[0;32mif\u001b[0m \u001b[0mcontent\u001b[0m \u001b[0;32melse\u001b[0m \u001b[0;34m'No Content'\u001b[0m\u001b[0;34m\u001b[0m\u001b[0m\n\u001b[1;32m     37\u001b[0m \u001b[0;34m\u001b[0m\u001b[0m\n\u001b[0;32m---> 38\u001b[0;31m     \u001b[0;32mraise\u001b[0m \u001b[0mexceptions\u001b[0m\u001b[0;34m.\u001b[0m\u001b[0mPlotlyRequestError\u001b[0m\u001b[0;34m(\u001b[0m\u001b[0mmessage\u001b[0m\u001b[0;34m,\u001b[0m \u001b[0mstatus_code\u001b[0m\u001b[0;34m,\u001b[0m \u001b[0mcontent\u001b[0m\u001b[0;34m)\u001b[0m\u001b[0;34m\u001b[0m\u001b[0m\n\u001b[0m\u001b[1;32m     39\u001b[0m \u001b[0;34m\u001b[0m\u001b[0m\n\u001b[1;32m     40\u001b[0m \u001b[0;34m\u001b[0m\u001b[0m\n",
      "\u001b[0;31mPlotlyRequestError\u001b[0m: Account limit reached: Your account is limited to creating 25 charts. To continue, you can override or delete existing charts or you can upgrade your account at: https://plot.ly/products/cloud"
     ]
    }
   ],
   "source": [
    "feature1_index = 6\n",
    "feature2_index = 0\n",
    "\n",
    "trace0 = go.Scatter(\n",
    "    x = wine_data.data[wine_data.target == 0, feature1_index],\n",
    "    y = wine_data.data[wine_data.target == 0, feature2_index],\n",
    "    name = 'Type 0',\n",
    "    mode = 'markers',\n",
    "    marker = dict(\n",
    "        size = 10,\n",
    "        color = 'rgba(12, 0, 152, .8)',\n",
    "        line = dict(\n",
    "            width = 2,\n",
    "            color = 'rgb(0, 0, 0)'\n",
    "        )\n",
    "    )\n",
    ")\n",
    "\n",
    "trace1 = go.Scatter(\n",
    "    x = wine_data.data[wine_data.target == 1, feature1_index],\n",
    "    y = wine_data.data[wine_data.target == 1, feature2_index],\n",
    "    name = 'Type 1',\n",
    "    mode = 'markers',\n",
    "    marker = dict(\n",
    "        size = 10,\n",
    "        color = 'rgba(0, 152, 0, .8)',\n",
    "        line = dict(\n",
    "            width = 2,\n",
    "            color = 'rgb(0, 0, 0)'\n",
    "        )\n",
    "    )\n",
    ")\n",
    "\n",
    "trace2 = go.Scatter(\n",
    "    x = wine_data.data[wine_data.target == 2, feature1_index],\n",
    "    y = wine_data.data[wine_data.target == 2, feature2_index],\n",
    "    name = 'Type 2',\n",
    "    mode = 'markers',\n",
    "    marker = dict(\n",
    "        size = 10,\n",
    "        color = 'rgba(152, 0, 0, .8)',\n",
    "        line = dict(\n",
    "            width = 2,\n",
    "            color = 'rgb(0, 0, 0)'\n",
    "        )\n",
    "    )\n",
    ")\n",
    "\n",
    "trace_unknowns = go.Scatter(\n",
    "    x = [1.8, 0.7, 3.1],\n",
    "    y = [13.2, 12.0, 12.7],\n",
    "    name = \"Inconnus\",\n",
    "    mode = \"markers\",\n",
    "    marker = dict(\n",
    "        size = 10,\n",
    "        color = 'rgba(0, 0, 0, 0.15)',\n",
    "        line = dict(width = 2,)\n",
    "    )\n",
    ")\n",
    "\n",
    "\n",
    "layout = dict(title = 'Vins',\n",
    "              xaxis = dict(title = wine_data.feature_names[feature1_index]),\n",
    "              yaxis = dict(title = wine_data.feature_names[feature2_index])\n",
    "             )\n",
    "\n",
    "data = [trace0, trace1, trace2, trace_unknowns]\n",
    "\n",
    "\n",
    "py.iplot({\"data\": data, \"layout\": layout}, filename=\"out.png\")"
   ]
  },
  {
   "cell_type": "code",
   "execution_count": null,
   "metadata": {},
   "outputs": [],
   "source": [
    "tree = DecisionTreeClassifier(max_depth=2)\n",
    "tree.fit(wine_data.data[:, [feature1_index, feature2_index]], wine_data.target)"
   ]
  },
  {
   "cell_type": "code",
   "execution_count": null,
   "metadata": {},
   "outputs": [],
   "source": [
    "dot_data_tree = export_graphviz(tree2, out_file=None, \n",
    "                         feature_names=[wine_data.feature_names[feature1_index],wine_data.feature_names[feature2_index]],  \n",
    "                         filled=True, rounded=True,  \n",
    "                         special_characters=True) \n",
    "graphviz.Source(dot_data_tree)"
   ]
  },
  {
   "cell_type": "code",
   "execution_count": 18,
   "metadata": {},
   "outputs": [
    {
     "ename": "NameError",
     "evalue": "name 'tree' is not defined",
     "output_type": "error",
     "traceback": [
      "\u001b[0;31m--------------------------------------------\u001b[0m",
      "\u001b[0;31mNameError\u001b[0m  Traceback (most recent call last)",
      "\u001b[0;32m<ipython-input-18-72a7247d8251>\u001b[0m in \u001b[0;36m<module>\u001b[0;34m()\u001b[0m\n\u001b[1;32m      7\u001b[0m                      np.arange(y_min, y_max, 0.1))\n\u001b[1;32m      8\u001b[0m \u001b[0my_\u001b[0m \u001b[0;34m=\u001b[0m \u001b[0mnp\u001b[0m\u001b[0;34m.\u001b[0m\u001b[0marange\u001b[0m\u001b[0;34m(\u001b[0m\u001b[0my_min\u001b[0m\u001b[0;34m,\u001b[0m \u001b[0my_max\u001b[0m\u001b[0;34m,\u001b[0m \u001b[0;36m0.1\u001b[0m\u001b[0;34m)\u001b[0m\u001b[0;34m\u001b[0m\u001b[0m\n\u001b[0;32m----> 9\u001b[0;31m \u001b[0mz\u001b[0m \u001b[0;34m=\u001b[0m \u001b[0mtree\u001b[0m\u001b[0;34m.\u001b[0m\u001b[0mpredict\u001b[0m\u001b[0;34m(\u001b[0m\u001b[0mnp\u001b[0m\u001b[0;34m.\u001b[0m\u001b[0mc_\u001b[0m\u001b[0;34m[\u001b[0m\u001b[0mxx\u001b[0m\u001b[0;34m.\u001b[0m\u001b[0mravel\u001b[0m\u001b[0;34m(\u001b[0m\u001b[0;34m)\u001b[0m\u001b[0;34m,\u001b[0m \u001b[0myy\u001b[0m\u001b[0;34m.\u001b[0m\u001b[0mravel\u001b[0m\u001b[0;34m(\u001b[0m\u001b[0;34m)\u001b[0m\u001b[0;34m]\u001b[0m\u001b[0;34m)\u001b[0m\u001b[0;34m.\u001b[0m\u001b[0mreshape\u001b[0m\u001b[0;34m(\u001b[0m\u001b[0mxx\u001b[0m\u001b[0;34m.\u001b[0m\u001b[0mshape\u001b[0m\u001b[0;34m)\u001b[0m\u001b[0;34m\u001b[0m\u001b[0m\n\u001b[0m\u001b[1;32m     10\u001b[0m \u001b[0;34m\u001b[0m\u001b[0m\n\u001b[1;32m     11\u001b[0m trace0 = go.Scatter(\n",
      "\u001b[0;31mNameError\u001b[0m: name 'tree' is not defined"
     ]
    }
   ],
   "source": [
    "feature1_index = 6\n",
    "feature2_index = 0\n",
    "\n",
    "x_min, x_max = wine_data.data[:, feature1_index].min() - 1, wine_data.data[:, feature1_index].max() + 1\n",
    "y_min, y_max = wine_data.data[:, feature2_index].min() - 1, wine_data.data[:, feature2_index].max() + 1\n",
    "xx, yy = np.meshgrid(np.arange(x_min, x_max, 0.1),\n",
    "                     np.arange(y_min, y_max, 0.1))\n",
    "y_ = np.arange(y_min, y_max, 0.1)\n",
    "z = tree.predict(np.c_[xx.ravel(), yy.ravel()]).reshape(xx.shape)\n",
    "\n",
    "trace0 = go.Scatter(\n",
    "    x = wine_data.data[wine_data.target == 0, feature1_index],\n",
    "    y = wine_data.data[wine_data.target == 0, feature2_index],\n",
    "    name = 'Type 0',\n",
    "    mode = 'markers',\n",
    "    marker = dict(\n",
    "        size = 10,\n",
    "        color = 'rgba(0, 0, 152, .8)',\n",
    "        line = dict(\n",
    "            width = 2,\n",
    "            color = 'rgb(0, 0, 0)'\n",
    "        )\n",
    "    )\n",
    ")\n",
    "\n",
    "trace1 = go.Scatter(\n",
    "    x = wine_data.data[wine_data.target == 1, feature1_index],\n",
    "    y = wine_data.data[wine_data.target == 1, feature2_index],\n",
    "    name = 'Type 1',\n",
    "    mode = 'markers',\n",
    "    marker = dict(\n",
    "        size = 10,\n",
    "        color = 'rgba(0, 152, 0, .8)',\n",
    "        line = dict(\n",
    "            width = 2,\n",
    "            color = 'rgb(0, 0, 0)'\n",
    "        )\n",
    "    )\n",
    ")\n",
    "\n",
    "trace2 = go.Scatter(\n",
    "    x = wine_data.data[wine_data.target == 2, feature1_index],\n",
    "    y = wine_data.data[wine_data.target == 2, feature2_index],\n",
    "    name = 'Type 2',\n",
    "    mode = 'markers',\n",
    "    marker = dict(\n",
    "        size = 10,\n",
    "        color = 'rgba(152, 0, 0, .8)',\n",
    "        line = dict(\n",
    "            width = 2,\n",
    "            color = 'rgb(0, 0, 0)'\n",
    "        )\n",
    "    )\n",
    ")\n",
    "\n",
    "contour = go.Contour(\n",
    "    x=xx[0], y=y_, \n",
    "    z=z,\n",
    "    colorscale=[[0, 'blue'],\n",
    "                [1, 'yellow'],\n",
    "                [2, 'red']\n",
    "               ],\n",
    "    opacity=0.5,\n",
    "    showscale=False\n",
    ")\n",
    "\n",
    "trace_unknowns = go.Scatter(\n",
    "    x = [3.5, 2.4],\n",
    "    y = [12.1, 13.2],\n",
    "    name = \"Inconnus\",\n",
    "    mode = \"markers\",\n",
    "    marker = dict(\n",
    "        size = 10,\n",
    "        color = 'rgba(0, 0, 0, 0.15)',\n",
    "        line = dict(width = 2,)\n",
    "    )\n",
    ")\n",
    "\n",
    "data = [trace0, trace1, trace2, contour, trace_unknowns]\n",
    "\n",
    "\n",
    "layout = dict(title = 'Vins',\n",
    "              xaxis = dict(title = wine_data.feature_names[feature1_index]),\n",
    "              yaxis = dict(title = wine_data.feature_names[feature2_index])\n",
    "             )\n",
    "\n",
    "py.iplot({\"data\": data, \"layout\": layout}, filename='basic-scatter')"
   ]
  },
  {
   "cell_type": "code",
   "execution_count": null,
   "metadata": {},
   "outputs": [],
   "source": [
    "knn = KNeighborsClassifier(n_neighbors=6)\n",
    "knn.fit(wine_data.data[:, [feature1_index, feature2_index]], wine_data.target)"
   ]
  },
  {
   "cell_type": "code",
   "execution_count": null,
   "metadata": {},
   "outputs": [],
   "source": [
    "x_min, x_max = wine_data.data[:, feature1_index].min() - 1, wine_data.data[:, feature1_index].max() + 1\n",
    "y_min, y_max = wine_data.data[:, feature2_index].min() - 1, wine_data.data[:, feature2_index].max() + 1\n",
    "xx, yy = np.meshgrid(np.arange(x_min, x_max, 0.1),\n",
    "                     np.arange(y_min, y_max, 0.1))\n",
    "y_ = np.arange(y_min, y_max, 0.1)\n",
    "z = knn.predict(np.c_[xx.ravel(), yy.ravel()]).reshape(xx.shape)\n",
    "\n",
    "feature1_index = 6\n",
    "feature2_index = 0\n",
    "\n",
    "trace0 = go.Scatter(\n",
    "    x = wine_data.data[wine_data.target == 0, feature1_index],\n",
    "    y = wine_data.data[wine_data.target == 0, feature2_index],\n",
    "    name = 'Type 0',\n",
    "    mode = 'markers',\n",
    "    marker = dict(\n",
    "        size = 10,\n",
    "        color = 'rgba(0, 0, 152, .8)',\n",
    "        line = dict(\n",
    "            width = 2,\n",
    "            color = 'rgb(0, 0, 0)'\n",
    "        )\n",
    "    )\n",
    ")\n",
    "\n",
    "trace1 = go.Scatter(\n",
    "    x = wine_data.data[wine_data.target == 1, feature1_index],\n",
    "    y = wine_data.data[wine_data.target == 1, feature2_index],\n",
    "    name = 'Type 1',\n",
    "    mode = 'markers',\n",
    "    marker = dict(\n",
    "        size = 10,\n",
    "        color = 'rgba(0, 152, 0, .8)',\n",
    "        line = dict(\n",
    "            width = 2,\n",
    "            color = 'rgb(0, 0, 0)'\n",
    "        )\n",
    "    )\n",
    ")\n",
    "\n",
    "trace2 = go.Scatter(\n",
    "    x = wine_data.data[wine_data.target == 2, feature1_index],\n",
    "    y = wine_data.data[wine_data.target == 2, feature2_index],\n",
    "    name = 'Type 2',\n",
    "    mode = 'markers',\n",
    "    marker = dict(\n",
    "        size = 10,\n",
    "        color = 'rgba(152, 0, 0, .8)',\n",
    "        line = dict(\n",
    "            width = 2,\n",
    "            color = 'rgb(0, 0, 0)'\n",
    "        )\n",
    "    )\n",
    ")\n",
    "\n",
    "contour = go.Contour(\n",
    "    x=xx[0], y=y_, \n",
    "    z=z,\n",
    "    colorscale=[[0, 'blue'],\n",
    "                [1, 'yellow'],\n",
    "                [2, 'red']\n",
    "               ],\n",
    "    opacity=0.5,\n",
    "    showscale=False\n",
    ")\n",
    "\n",
    "trace_unknowns = go.Scatter(\n",
    "    x = [3.5, 2.4],\n",
    "    y = [12.1, 13.2],\n",
    "    name = \"Inconnus\",\n",
    "    mode = \"markers\",\n",
    "    marker = dict(\n",
    "        size = 10,\n",
    "        color = 'rgba(0, 0, 0, 0.15)',\n",
    "        line = dict(width = 2,)\n",
    "    )\n",
    ")\n",
    "\n",
    "data = [trace0, trace1, trace2, contour, trace_unknowns]\n",
    "\n",
    "\n",
    "layout = dict(title = 'Vins',\n",
    "              xaxis = dict(title = wine_data.feature_names[feature1_index]),\n",
    "              yaxis = dict(title = wine_data.feature_names[feature2_index])\n",
    "             )\n",
    "\n",
    "py.iplot({\"data\": data, \"layout\": layout}, filename='basic-scatter')"
   ]
  },
  {
   "cell_type": "markdown",
   "metadata": {
    "collapsed": true
   },
   "source": [
    "# Regression"
   ]
  },
  {
   "cell_type": "code",
   "execution_count": 20,
   "metadata": {
    "collapsed": true
   },
   "outputs": [],
   "source": [
    "diabete_data = datasets.load_diabetes()"
   ]
  },
  {
   "cell_type": "code",
   "execution_count": null,
   "metadata": {
    "collapsed": true
   },
   "outputs": [],
   "source": [
    "di"
   ]
  },
  {
   "cell_type": "code",
   "execution_count": null,
   "metadata": {},
   "outputs": [],
   "source": [
    "diabete_data.feature_names"
   ]
  },
  {
   "cell_type": "code",
   "execution_count": null,
   "metadata": {},
   "outputs": [],
   "source": [
    "feature1_index = 2\n",
    "\n",
    "trace0 = go.Scatter(\n",
    "    x = diabete_data.data[:, feature1_index],\n",
    "    y = diabete_data.target,\n",
    "    mode = 'markers',\n",
    "    marker = dict(\n",
    "        size = 10,\n",
    "        line = dict(\n",
    "            width = 2,\n",
    "            color = 'blue'\n",
    "        )\n",
    "    )\n",
    ")\n",
    "\n",
    "data = [trace0]\n",
    "\n",
    "\n",
    "layout = dict(title = 'Diabete response',\n",
    "              xaxis = dict(title = diabete_data.feature_names[feature1_index]),\n",
    "              yaxis = dict(title = \"Diabete response\")\n",
    "             )\n",
    "\n",
    "py.iplot({\"data\": data, \"layout\": layout})"
   ]
  },
  {
   "cell_type": "code",
   "execution_count": null,
   "metadata": {},
   "outputs": [],
   "source": [
    "lr = LinearRegression()\n",
    "lr.fit(diabete_data.data[:, [feature1_index]], diabete_data.target)"
   ]
  },
  {
   "cell_type": "code",
   "execution_count": null,
   "metadata": {},
   "outputs": [],
   "source": [
    "feature1_index = 2\n",
    "\n",
    "trace0 = go.Scatter(\n",
    "    x = diabete_data.data[:, feature1_index],\n",
    "    y = diabete_data.target,\n",
    "    mode = 'markers',\n",
    "    name = 'acutal repsonses',\n",
    "    marker = dict(\n",
    "        size = 10,\n",
    "        line = dict(\n",
    "            width = 2,\n",
    "            color = 'blue'\n",
    "        )\n",
    "    )\n",
    ")\n",
    "\n",
    "trace1 = go.Scatter(\n",
    "    x = diabete_data.data[:, [feature1_index]],\n",
    "    y = lr.predict(diabete_data.data[:, [feature1_index]]),\n",
    "    mode = 'line',\n",
    "    name = 'predicted response',\n",
    "    marker = dict(\n",
    "        size = 10,\n",
    "        line = dict(\n",
    "            width = 2,\n",
    "            color = 'red'\n",
    "        )\n",
    "    )\n",
    ")\n",
    "\n",
    "data = [trace0, trace1]\n",
    "\n",
    "\n",
    "layout = dict(title = 'Diabete response',\n",
    "              xaxis = dict(title = diabete_data.feature_names[feature1_index]),\n",
    "              yaxis = dict(title = \"Diabete response\")\n",
    "             )\n",
    "\n",
    "py.iplot({\"data\": data, \"layout\": layout})"
   ]
  },
  {
   "cell_type": "code",
   "execution_count": null,
   "metadata": {},
   "outputs": [],
   "source": [
    "rtree = DecisionTreeRegressor(max_depth=2)\n",
    "rtree.fit(diabete_data.data[:, [feature1_index]], diabete_data.target)"
   ]
  },
  {
   "cell_type": "code",
   "execution_count": null,
   "metadata": {},
   "outputs": [],
   "source": [
    "dot_data_tree = export_graphviz(rtree, out_file=None, \n",
    "                         feature_names=[\"bmi\"],  \n",
    "                         filled=True, rounded=True,  \n",
    "                         special_characters=True) \n",
    "graphviz.Source(dot_data_tree)"
   ]
  },
  {
   "cell_type": "code",
   "execution_count": null,
   "metadata": {},
   "outputs": [],
   "source": [
    "feature1_index = 2\n",
    "\n",
    "trace0 = go.Scatter(\n",
    "    x = diabete_data.data[:, feature1_index],\n",
    "    y = diabete_data.target,\n",
    "    mode = 'markers',\n",
    "    name = 'acutal repsonses',\n",
    "    marker = dict(\n",
    "        size = 10,\n",
    "        line = dict(\n",
    "            width = 2,\n",
    "            color = 'blue'\n",
    "        )\n",
    "    )\n",
    ")\n",
    "\n",
    "trace1 = go.Scatter(\n",
    "    x = sorted(diabete_data.data[:, [feature1_index]]),\n",
    "    y = rtree.predict(sorted(diabete_data.data[:, [feature1_index]])),\n",
    "    mode = 'line',\n",
    "    name = 'predicted response',\n",
    "    marker = dict(\n",
    "        size = 10,\n",
    "        line = dict(\n",
    "            width = 2,\n",
    "            color = 'red'\n",
    "        )\n",
    "    )\n",
    ")\n",
    "\n",
    "data = [trace0, trace1]\n",
    "\n",
    "\n",
    "layout = dict(title = 'Diabete response',\n",
    "              xaxis = dict(title = diabete_data.feature_names[feature1_index]),\n",
    "              yaxis = dict(title = \"Diabete response\")\n",
    "             )\n",
    "\n",
    "py.iplot({\"data\": data, \"layout\": layout})"
   ]
  },
  {
   "cell_type": "code",
   "execution_count": null,
   "metadata": {
    "collapsed": true
   },
   "outputs": [],
   "source": []
  },
  {
   "cell_type": "markdown",
   "metadata": {},
   "source": [
    "# Validation du modèle"
   ]
  },
  {
   "cell_type": "code",
   "execution_count": 22,
   "metadata": {},
   "outputs": [
    {
     "data": {
      "text/plain": [
       "DecisionTreeClassifier(class_weight=None, criterion='gini', max_depth=12,\n",
       "            max_features=None, max_leaf_nodes=None,\n",
       "            min_impurity_decrease=0.0, min_impurity_split=None,\n",
       "            min_samples_leaf=1, min_samples_split=2,\n",
       "            min_weight_fraction_leaf=0.0, presort=False, random_state=None,\n",
       "            splitter='best')"
      ]
     },
     "execution_count": 22,
     "metadata": {},
     "output_type": "execute_result"
    }
   ],
   "source": [
    "tree = DecisionTreeClassifier(max_depth=12)\n",
    "tree.fit(wine_data.data[:, [feature1_index, feature2_index]], wine_data.target)"
   ]
  },
  {
   "cell_type": "code",
   "execution_count": null,
   "metadata": {},
   "outputs": [],
   "source": [
    "feature1_index = 6\n",
    "feature2_index = 0\n",
    "\n",
    "x_min, x_max = wine_data.data[:, feature1_index].min() - 1, wine_data.data[:, feature1_index].max() + 1\n",
    "y_min, y_max = wine_data.data[:, feature2_index].min() - 1, wine_data.data[:, feature2_index].max() + 1\n",
    "xx, yy = np.meshgrid(np.arange(x_min, x_max, 0.1),\n",
    "                     np.arange(y_min, y_max, 0.1))\n",
    "y_ = np.arange(y_min, y_max, 0.1)\n",
    "z = tree.predict(np.c_[xx.ravel(), yy.ravel()]).reshape(xx.shape)\n",
    "\n",
    "trace0 = go.Scatter(\n",
    "    x = wine_data.data[wine_data.target == 0, feature1_index],\n",
    "    y = wine_data.data[wine_data.target == 0, feature2_index],\n",
    "    name = 'Type 0',\n",
    "    mode = 'markers',\n",
    "    marker = dict(\n",
    "        size = 10,\n",
    "        color = 'rgba(0, 0, 152, .8)',\n",
    "        line = dict(\n",
    "            width = 2,\n",
    "            color = 'rgb(0, 0, 0)'\n",
    "        )\n",
    "    )\n",
    ")\n",
    "\n",
    "trace1 = go.Scatter(\n",
    "    x = wine_data.data[wine_data.target == 1, feature1_index],\n",
    "    y = wine_data.data[wine_data.target == 1, feature2_index],\n",
    "    name = 'Type 1',\n",
    "    mode = 'markers',\n",
    "    marker = dict(\n",
    "        size = 10,\n",
    "        color = 'rgba(0, 152, 0, .8)',\n",
    "        line = dict(\n",
    "            width = 2,\n",
    "            color = 'rgb(0, 0, 0)'\n",
    "        )\n",
    "    )\n",
    ")\n",
    "\n",
    "trace2 = go.Scatter(\n",
    "    x = wine_data.data[wine_data.target == 2, feature1_index],\n",
    "    y = wine_data.data[wine_data.target == 2, feature2_index],\n",
    "    name = 'Type 2',\n",
    "    mode = 'markers',\n",
    "    marker = dict(\n",
    "        size = 10,\n",
    "        color = 'rgba(152, 0, 0, .8)',\n",
    "        line = dict(\n",
    "            width = 2,\n",
    "            color = 'rgb(0, 0, 0)'\n",
    "        )\n",
    "    )\n",
    ")\n",
    "\n",
    "contour = go.Contour(\n",
    "    x=xx[0], y=y_, \n",
    "    z=z,\n",
    "    colorscale=[[0, 'blue'],\n",
    "                [1, 'green'],\n",
    "                [2, 'red']\n",
    "               ],\n",
    "    opacity=0.5,\n",
    "    showscale=False\n",
    ")\n",
    "\n",
    "trace_unknowns = go.Scatter(\n",
    "    x = [3.5, 2.4],\n",
    "    y = [12.1, 13.2],\n",
    "    name = \"Inconnus\",\n",
    "    mode = \"markers\",\n",
    "    marker = dict(\n",
    "        size = 10,\n",
    "        color = 'rgba(0, 0, 0, 0.15)',\n",
    "        line = dict(width = 2,)\n",
    "    )\n",
    ")\n",
    "\n",
    "data = [trace0, trace1, trace2, contour, trace_unknowns]\n",
    "\n",
    "\n",
    "layout = dict(title = 'Vins',\n",
    "              xaxis = dict(title = wine_data.feature_names[feature1_index]),\n",
    "              yaxis = dict(title = wine_data.feature_names[feature2_index])\n",
    "             )\n",
    "\n",
    "py.iplot({\"data\": data, \"layout\": layout}, filename='basic-scatter')"
   ]
  },
  {
   "cell_type": "code",
   "execution_count": null,
   "metadata": {
    "collapsed": true
   },
   "outputs": [],
   "source": [
    "dot_data_tree = export_graphviz(tree, out_file=\"complex_model.dot\", \n",
    "                         feature_names=[wine_data.feature_names[feature1_index],wine_data.feature_names[feature2_index]],  \n",
    "                         filled=True, rounded=True,  \n",
    "                         special_characters=True) \n"
   ]
  },
  {
   "cell_type": "code",
   "execution_count": 23,
   "metadata": {
    "collapsed": true
   },
   "outputs": [],
   "source": [
    "x_train, x_validation, y_train, y_validation = train_test_split(wine_data.data[:, [feature1_index, feature2_index]], \n",
    "                                                    wine_data.target, test_size=0.2)"
   ]
  },
  {
   "cell_type": "code",
   "execution_count": 24,
   "metadata": {},
   "outputs": [
    {
     "name": "stdout",
     "output_type": "stream",
     "text": [
      "(142, 2) (36, 2)\n"
     ]
    }
   ],
   "source": [
    "print(x_train.shape, x_validation.shape)"
   ]
  },
  {
   "cell_type": "code",
   "execution_count": 25,
   "metadata": {
    "collapsed": true
   },
   "outputs": [],
   "source": [
    "def get_score_validation(max_depth):\n",
    "    tree = DecisionTreeClassifier(max_depth=max_depth)\n",
    "    tree.fit(x_train, y_train)\n",
    "    return tree.score(x_validation, y_validation)"
   ]
  },
  {
   "cell_type": "code",
   "execution_count": 26,
   "metadata": {
    "collapsed": true
   },
   "outputs": [],
   "source": [
    "scores_validation = list(map(get_score_validation, range(1, 15)))"
   ]
  },
  {
   "cell_type": "code",
   "execution_count": 27,
   "metadata": {},
   "outputs": [
    {
     "data": {
      "text/plain": [
       "[0.3888888888888889,\n",
       " 0.7777777777777778,\n",
       " 0.8611111111111112,\n",
       " 0.8611111111111112,\n",
       " 0.8333333333333334,\n",
       " 0.8055555555555556,\n",
       " 0.8055555555555556,\n",
       " 0.8055555555555556,\n",
       " 0.8055555555555556,\n",
       " 0.7777777777777778,\n",
       " 0.8055555555555556,\n",
       " 0.7777777777777778,\n",
       " 0.8055555555555556,\n",
       " 0.8055555555555556]"
      ]
     },
     "execution_count": 27,
     "metadata": {},
     "output_type": "execute_result"
    }
   ],
   "source": [
    "scores_validation"
   ]
  },
  {
   "cell_type": "code",
   "execution_count": null,
   "metadata": {
    "collapsed": true
   },
   "outputs": [],
   "source": [
    "def get_score_training(max_depth):\n",
    "    tree = DecisionTreeClassifier(max_depth=max_depth)\n",
    "    tree.fit(x_train, y_train)\n",
    "    return tree.score(x_train, y_train)"
   ]
  },
  {
   "cell_type": "code",
   "execution_count": null,
   "metadata": {
    "collapsed": true
   },
   "outputs": [],
   "source": [
    "scores_training = list(map(get_score_training, range(1, 15)))"
   ]
  },
  {
   "cell_type": "code",
   "execution_count": null,
   "metadata": {},
   "outputs": [],
   "source": [
    "scores_training"
   ]
  },
  {
   "cell_type": "code",
   "execution_count": null,
   "metadata": {},
   "outputs": [],
   "source": [
    "feature1_index = 2\n",
    "\n",
    "trace0 = go.Scatter(\n",
    "    x = list(range(1, 15)),\n",
    "    y = scores_training,\n",
    "    mode = 'line',\n",
    "    name = 'scores d\\'entrainement',\n",
    "    marker = dict(\n",
    "        size = 10,\n",
    "        line = dict(\n",
    "            width = 2,\n",
    "            color = 'red'\n",
    "        )\n",
    "    )\n",
    ")\n",
    "\n",
    "trace1 = go.Scatter(\n",
    "    x = list(range(1, 15)),\n",
    "    y = scores_validation,\n",
    "    mode = 'line',\n",
    "    name = 'scores de validation',\n",
    "    marker = dict(\n",
    "        size = 10,\n",
    "        line = dict(\n",
    "            width = 2,\n",
    "            color = 'blue'\n",
    "        )\n",
    "    )\n",
    ")\n",
    "\n",
    "data = [trace0, trace1]\n",
    "\n",
    "\n",
    "layout = dict(title = 'Scores sur les ensembles d\\'entrainement et de validation',\n",
    "              xaxis = dict(title = 'Profondeur maximale'),\n",
    "              yaxis = dict(title = \"Score\")\n",
    "             )\n",
    "\n",
    "py.iplot({\"data\": data, \"layout\": layout})"
   ]
  },
  {
   "cell_type": "code",
   "execution_count": null,
   "metadata": {},
   "outputs": [],
   "source": [
    "optimal_tree = DecisionTreeClassifier(max_depth=4)\n",
    "optimal_tree.fit(wine_data.data[:, [feature1_index, feature2_index]], wine_data.target)"
   ]
  },
  {
   "cell_type": "code",
   "execution_count": null,
   "metadata": {},
   "outputs": [],
   "source": [
    "dot_data_tree = export_graphviz(optimal_tree, out_file=None, \n",
    "                         feature_names=[wine_data.feature_names[feature1_index],wine_data.feature_names[feature2_index]],  \n",
    "                         filled=True, rounded=True,  \n",
    "                         special_characters=True) \n",
    "\n",
    "graphviz.Source(dot_data_tree)"
   ]
  },
  {
   "cell_type": "code",
   "execution_count": null,
   "metadata": {},
   "outputs": [],
   "source": [
    "feature1_index = 6\n",
    "feature2_index = 0\n",
    "\n",
    "x_min, x_max = wine_data.data[:, feature1_index].min() - 1, wine_data.data[:, feature1_index].max() + 1\n",
    "y_min, y_max = wine_data.data[:, feature2_index].min() - 1, wine_data.data[:, feature2_index].max() + 1\n",
    "xx, yy = np.meshgrid(np.arange(x_min, x_max, 0.1),\n",
    "                     np.arange(y_min, y_max, 0.1))\n",
    "y_ = np.arange(y_min, y_max, 0.1)\n",
    "z = optimal_tree.predict(np.c_[xx.ravel(), yy.ravel()]).reshape(xx.shape)\n",
    "\n",
    "trace0 = go.Scatter(\n",
    "    x = wine_data.data[wine_data.target == 0, feature1_index],\n",
    "    y = wine_data.data[wine_data.target == 0, feature2_index],\n",
    "    name = 'Type 0',\n",
    "    mode = 'markers',\n",
    "    marker = dict(\n",
    "        size = 10,\n",
    "        color = 'rgba(0, 0, 152, .8)',\n",
    "        line = dict(\n",
    "            width = 2,\n",
    "            color = 'rgb(0, 0, 0)'\n",
    "        )\n",
    "    )\n",
    ")\n",
    "\n",
    "trace1 = go.Scatter(\n",
    "    x = wine_data.data[wine_data.target == 1, feature1_index],\n",
    "    y = wine_data.data[wine_data.target == 1, feature2_index],\n",
    "    name = 'Type 1',\n",
    "    mode = 'markers',\n",
    "    marker = dict(\n",
    "        size = 10,\n",
    "        color = 'rgba(0, 152, 0, .8)',\n",
    "        line = dict(\n",
    "            width = 2,\n",
    "            color = 'rgb(0, 0, 0)'\n",
    "        )\n",
    "    )\n",
    ")\n",
    "\n",
    "trace2 = go.Scatter(\n",
    "    x = wine_data.data[wine_data.target == 2, feature1_index],\n",
    "    y = wine_data.data[wine_data.target == 2, feature2_index],\n",
    "    name = 'Type 2',\n",
    "    mode = 'markers',\n",
    "    marker = dict(\n",
    "        size = 10,\n",
    "        color = 'rgba(152, 0, 0, .8)',\n",
    "        line = dict(\n",
    "            width = 2,\n",
    "            color = 'rgb(0, 0, 0)'\n",
    "        )\n",
    "    )\n",
    ")\n",
    "\n",
    "contour = go.Contour(\n",
    "    x=xx[0], y=y_, \n",
    "    z=z,\n",
    "    colorscale=[[0, 'blue'],\n",
    "                [1, 'green'],\n",
    "                [2, 'red']\n",
    "               ],\n",
    "    opacity=0.5,\n",
    "    showscale=False\n",
    ")\n",
    "\n",
    "trace_unknowns = go.Scatter(\n",
    "    x = [3.5, 2.4],\n",
    "    y = [12.1, 13.2],\n",
    "    name = \"Inconnus\",\n",
    "    mode = \"markers\",\n",
    "    marker = dict(\n",
    "        size = 10,\n",
    "        color = 'rgba(0, 0, 0, 0.15)',\n",
    "        line = dict(width = 2,)\n",
    "    )\n",
    ")\n",
    "\n",
    "data = [trace0, trace1, trace2, contour, trace_unknowns]\n",
    "\n",
    "\n",
    "layout = dict(title = 'Vins',\n",
    "              xaxis = dict(title = wine_data.feature_names[feature1_index]),\n",
    "              yaxis = dict(title = wine_data.feature_names[feature2_index])\n",
    "             )\n",
    "\n",
    "py.iplot({\"data\": data, \"layout\": layout}, filename='basic-scatter')"
   ]
  },
  {
   "cell_type": "code",
   "execution_count": null,
   "metadata": {
    "collapsed": true
   },
   "outputs": [],
   "source": []
  }
 ],
 "metadata": {
  "kernelspec": {
   "display_name": "Python 3",
   "language": "python",
   "name": "python3"
  },
  "language_info": {
   "codemirror_mode": {
    "name": "ipython",
    "version": 3
   },
   "file_extension": ".py",
   "mimetype": "text/x-python",
   "name": "python",
   "nbconvert_exporter": "python",
   "pygments_lexer": "ipython3",
   "version": "3.6.3"
  }
 },
 "nbformat": 4,
 "nbformat_minor": 2
}
