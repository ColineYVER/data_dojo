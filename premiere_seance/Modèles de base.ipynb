{
 "cells": [
  {
   "cell_type": "code",
   "execution_count": 149,
   "metadata": {
    "collapsed": true
   },
   "outputs": [],
   "source": [
    "import pandas as pd\n",
    "import numpy as np\n",
    "import seaborn as sns\n",
    "import plotly.plotly as py\n",
    "import plotly.graph_objs as go\n",
    "from sklearn import datasets\n",
    "from sklearn.neighbors import KNeighborsClassifier\n",
    "from sklearn.tree import DecisionTreeClassifier, DecisionTreeRegressor\n",
    "from sklearn.linear_model import LinearRegression\n",
    "from sklearn.model_selection import train_test_split\n",
    "%matplotlib inline"
   ]
  },
  {
   "cell_type": "markdown",
   "metadata": {},
   "source": [
    "# Classification"
   ]
  },
  {
   "cell_type": "code",
   "execution_count": 116,
   "metadata": {
    "collapsed": true
   },
   "outputs": [],
   "source": [
    "wine_data = datasets.load_wine()"
   ]
  },
  {
   "cell_type": "code",
   "execution_count": 117,
   "metadata": {
    "scrolled": true
   },
   "outputs": [
    {
     "data": {
      "text/plain": [
       "['alcohol',\n",
       " 'malic_acid',\n",
       " 'ash',\n",
       " 'alcalinity_of_ash',\n",
       " 'magnesium',\n",
       " 'total_phenols',\n",
       " 'flavanoids',\n",
       " 'nonflavanoid_phenols',\n",
       " 'proanthocyanins',\n",
       " 'color_intensity',\n",
       " 'hue',\n",
       " 'od280/od315_of_diluted_wines',\n",
       " 'proline']"
      ]
     },
     "execution_count": 117,
     "metadata": {},
     "output_type": "execute_result"
    }
   ],
   "source": [
    "wine_data.feature_names"
   ]
  },
  {
   "cell_type": "markdown",
   "metadata": {},
   "source": [
    "## Look at a few rows"
   ]
  },
  {
   "cell_type": "code",
   "execution_count": 118,
   "metadata": {
    "collapsed": true
   },
   "outputs": [],
   "source": [
    "feature1_index = 6\n",
    "feature2_index = 0"
   ]
  },
  {
   "cell_type": "code",
   "execution_count": 119,
   "metadata": {
    "collapsed": true
   },
   "outputs": [],
   "source": [
    "random_index = np.random.randint(low=0, high=len(wine_data.target), size=10)"
   ]
  },
  {
   "cell_type": "code",
   "execution_count": 120,
   "metadata": {},
   "outputs": [
    {
     "data": {
      "text/html": [
       "<div>\n",
       "<style>\n",
       "    .dataframe thead tr:only-child th {\n",
       "        text-align: right;\n",
       "    }\n",
       "\n",
       "    .dataframe thead th {\n",
       "        text-align: left;\n",
       "    }\n",
       "\n",
       "    .dataframe tbody tr th {\n",
       "        vertical-align: top;\n",
       "    }\n",
       "</style>\n",
       "<table border=\"1\" class=\"dataframe\">\n",
       "  <thead>\n",
       "    <tr style=\"text-align: right;\">\n",
       "      <th></th>\n",
       "      <th>flavanoids</th>\n",
       "      <th>alcohol</th>\n",
       "      <th>Type de vin</th>\n",
       "    </tr>\n",
       "  </thead>\n",
       "  <tbody>\n",
       "    <tr>\n",
       "      <th>1</th>\n",
       "      <td>2.61</td>\n",
       "      <td>13.50</td>\n",
       "      <td>0</td>\n",
       "    </tr>\n",
       "    <tr>\n",
       "      <th>2</th>\n",
       "      <td>0.75</td>\n",
       "      <td>13.40</td>\n",
       "      <td>2</td>\n",
       "    </tr>\n",
       "    <tr>\n",
       "      <th>3</th>\n",
       "      <td>1.92</td>\n",
       "      <td>12.51</td>\n",
       "      <td>1</td>\n",
       "    </tr>\n",
       "    <tr>\n",
       "      <th>4</th>\n",
       "      <td>2.88</td>\n",
       "      <td>13.71</td>\n",
       "      <td>0</td>\n",
       "    </tr>\n",
       "    <tr>\n",
       "      <th>5</th>\n",
       "      <td>3.29</td>\n",
       "      <td>13.56</td>\n",
       "      <td>0</td>\n",
       "    </tr>\n",
       "    <tr>\n",
       "      <th>6</th>\n",
       "      <td>1.85</td>\n",
       "      <td>12.33</td>\n",
       "      <td>1</td>\n",
       "    </tr>\n",
       "    <tr>\n",
       "      <th>7</th>\n",
       "      <td>1.39</td>\n",
       "      <td>13.08</td>\n",
       "      <td>2</td>\n",
       "    </tr>\n",
       "    <tr>\n",
       "      <th>8</th>\n",
       "      <td>0.78</td>\n",
       "      <td>12.25</td>\n",
       "      <td>2</td>\n",
       "    </tr>\n",
       "    <tr>\n",
       "      <th>9</th>\n",
       "      <td>2.51</td>\n",
       "      <td>14.06</td>\n",
       "      <td>0</td>\n",
       "    </tr>\n",
       "    <tr>\n",
       "      <th>10</th>\n",
       "      <td>2.40</td>\n",
       "      <td>13.20</td>\n",
       "      <td>??</td>\n",
       "    </tr>\n",
       "  </tbody>\n",
       "</table>\n",
       "</div>"
      ],
      "text/plain": [
       "    flavanoids  alcohol Type de vin\n",
       "1         2.61    13.50           0\n",
       "2         0.75    13.40           2\n",
       "3         1.92    12.51           1\n",
       "4         2.88    13.71           0\n",
       "5         3.29    13.56           0\n",
       "6         1.85    12.33           1\n",
       "7         1.39    13.08           2\n",
       "8         0.78    12.25           2\n",
       "9         2.51    14.06           0\n",
       "10        2.40    13.20          ??"
      ]
     },
     "execution_count": 120,
     "metadata": {},
     "output_type": "execute_result"
    }
   ],
   "source": [
    "pd.DataFrame({\n",
    "    wine_data.feature_names[feature1_index]: wine_data.data[random_index, feature1_index].tolist() + [2.4],\n",
    "    wine_data.feature_names[feature2_index]: wine_data.data[random_index, feature2_index].tolist() + [13.2],\n",
    "    \"Type de vin\": wine_data.target[random_index].tolist() + ['??']\n",
    "             })[-10:][[wine_data.feature_names[feature1_index], \n",
    "                      wine_data.feature_names[feature2_index],\n",
    "                     \"Type de vin\"]]"
   ]
  },
  {
   "cell_type": "code",
   "execution_count": 121,
   "metadata": {},
   "outputs": [
    {
     "data": {
      "text/html": [
       "<div>\n",
       "<style>\n",
       "    .dataframe thead tr:only-child th {\n",
       "        text-align: right;\n",
       "    }\n",
       "\n",
       "    .dataframe thead th {\n",
       "        text-align: left;\n",
       "    }\n",
       "\n",
       "    .dataframe tbody tr th {\n",
       "        vertical-align: top;\n",
       "    }\n",
       "</style>\n",
       "<table border=\"1\" class=\"dataframe\">\n",
       "  <thead>\n",
       "    <tr style=\"text-align: right;\">\n",
       "      <th></th>\n",
       "      <th>flavanoids</th>\n",
       "      <th>alcohol</th>\n",
       "      <th>Type de vin</th>\n",
       "    </tr>\n",
       "  </thead>\n",
       "  <tbody>\n",
       "    <tr>\n",
       "      <th>1</th>\n",
       "      <td>2.61</td>\n",
       "      <td>13.50</td>\n",
       "      <td>0</td>\n",
       "    </tr>\n",
       "    <tr>\n",
       "      <th>2</th>\n",
       "      <td>0.75</td>\n",
       "      <td>13.40</td>\n",
       "      <td>2</td>\n",
       "    </tr>\n",
       "    <tr>\n",
       "      <th>3</th>\n",
       "      <td>1.92</td>\n",
       "      <td>12.51</td>\n",
       "      <td>1</td>\n",
       "    </tr>\n",
       "    <tr>\n",
       "      <th>4</th>\n",
       "      <td>2.88</td>\n",
       "      <td>13.71</td>\n",
       "      <td>0</td>\n",
       "    </tr>\n",
       "    <tr>\n",
       "      <th>5</th>\n",
       "      <td>3.29</td>\n",
       "      <td>13.56</td>\n",
       "      <td>0</td>\n",
       "    </tr>\n",
       "    <tr>\n",
       "      <th>6</th>\n",
       "      <td>1.85</td>\n",
       "      <td>12.33</td>\n",
       "      <td>1</td>\n",
       "    </tr>\n",
       "    <tr>\n",
       "      <th>7</th>\n",
       "      <td>1.39</td>\n",
       "      <td>13.08</td>\n",
       "      <td>2</td>\n",
       "    </tr>\n",
       "    <tr>\n",
       "      <th>8</th>\n",
       "      <td>0.78</td>\n",
       "      <td>12.25</td>\n",
       "      <td>2</td>\n",
       "    </tr>\n",
       "    <tr>\n",
       "      <th>9</th>\n",
       "      <td>2.51</td>\n",
       "      <td>14.06</td>\n",
       "      <td>0</td>\n",
       "    </tr>\n",
       "    <tr>\n",
       "      <th>10</th>\n",
       "      <td>3.50</td>\n",
       "      <td>12.10</td>\n",
       "      <td>??</td>\n",
       "    </tr>\n",
       "  </tbody>\n",
       "</table>\n",
       "</div>"
      ],
      "text/plain": [
       "    flavanoids  alcohol Type de vin\n",
       "1         2.61    13.50           0\n",
       "2         0.75    13.40           2\n",
       "3         1.92    12.51           1\n",
       "4         2.88    13.71           0\n",
       "5         3.29    13.56           0\n",
       "6         1.85    12.33           1\n",
       "7         1.39    13.08           2\n",
       "8         0.78    12.25           2\n",
       "9         2.51    14.06           0\n",
       "10        3.50    12.10          ??"
      ]
     },
     "execution_count": 121,
     "metadata": {},
     "output_type": "execute_result"
    }
   ],
   "source": [
    "pd.DataFrame({\n",
    "    wine_data.feature_names[feature1_index]: wine_data.data[random_index, feature1_index].tolist() + [3.5],\n",
    "    wine_data.feature_names[feature2_index]: wine_data.data[random_index, feature2_index].tolist() + [12.1],\n",
    "    \"Type de vin\": wine_data.target[random_index].tolist() + ['??']\n",
    "             })[-10:][[wine_data.feature_names[feature1_index], \n",
    "                      wine_data.feature_names[feature2_index],\n",
    "                     \"Type de vin\"]]"
   ]
  },
  {
   "cell_type": "code",
   "execution_count": 125,
   "metadata": {},
   "outputs": [
    {
     "data": {
      "text/html": [
       "<iframe id=\"igraph\" scrolling=\"no\" style=\"border:none;\" seamless=\"seamless\" src=\"https://plot.ly/~vlandeau/56.embed\" height=\"525px\" width=\"100%\"></iframe>"
      ],
      "text/plain": [
       "<plotly.tools.PlotlyDisplay object>"
      ]
     },
     "execution_count": 125,
     "metadata": {},
     "output_type": "execute_result"
    }
   ],
   "source": [
    "feature1_index = 6\n",
    "feature2_index = 0\n",
    "\n",
    "trace0 = go.Scatter(\n",
    "    x = wine_data.data[wine_data.target == 0, feature1_index],\n",
    "    y = wine_data.data[wine_data.target == 0, feature2_index],\n",
    "    name = 'Type 0',\n",
    "    mode = 'markers',\n",
    "    marker = dict(\n",
    "        size = 10,\n",
    "        color = 'rgba(12, 0, 152, .8)',\n",
    "        line = dict(\n",
    "            width = 2,\n",
    "            color = 'rgb(0, 0, 0)'\n",
    "        )\n",
    "    )\n",
    ")\n",
    "\n",
    "trace1 = go.Scatter(\n",
    "    x = wine_data.data[wine_data.target == 1, feature1_index],\n",
    "    y = wine_data.data[wine_data.target == 1, feature2_index],\n",
    "    name = 'Type 1',\n",
    "    mode = 'markers',\n",
    "    marker = dict(\n",
    "        size = 10,\n",
    "        color = 'rgba(0, 152, 0, .8)',\n",
    "        line = dict(\n",
    "            width = 2,\n",
    "            color = 'rgb(0, 0, 0)'\n",
    "        )\n",
    "    )\n",
    ")\n",
    "\n",
    "trace2 = go.Scatter(\n",
    "    x = wine_data.data[wine_data.target == 2, feature1_index],\n",
    "    y = wine_data.data[wine_data.target == 2, feature2_index],\n",
    "    name = 'Type 2',\n",
    "    mode = 'markers',\n",
    "    marker = dict(\n",
    "        size = 10,\n",
    "        color = 'rgba(152, 0, 0, .8)',\n",
    "        line = dict(\n",
    "            width = 2,\n",
    "            color = 'rgb(0, 0, 0)'\n",
    "        )\n",
    "    )\n",
    ")\n",
    "\n",
    "trace_unknowns = go.Scatter(\n",
    "    x = [1.8, 0.7, 3.1],\n",
    "    y = [13.2, 12.0, 12.7],\n",
    "    name = \"Inconnus\",\n",
    "    mode = \"markers\",\n",
    "    marker = dict(\n",
    "        size = 10,\n",
    "        color = 'rgba(0, 0, 0, 0.15)',\n",
    "        line = dict(width = 2,)\n",
    "    )\n",
    ")\n",
    "\n",
    "\n",
    "layout = dict(title = 'Vins',\n",
    "              xaxis = dict(title = wine_data.feature_names[feature1_index]),\n",
    "              yaxis = dict(title = wine_data.feature_names[feature2_index])\n",
    "             )\n",
    "\n",
    "data = [trace0, trace1, trace2, trace_unknowns]\n",
    "\n",
    "\n",
    "py.iplot({\"data\": data, \"layout\": layout})"
   ]
  },
  {
   "cell_type": "code",
   "execution_count": 126,
   "metadata": {},
   "outputs": [
    {
     "data": {
      "text/plain": [
       "DecisionTreeClassifier(class_weight=None, criterion='gini', max_depth=2,\n",
       "            max_features=None, max_leaf_nodes=None,\n",
       "            min_impurity_decrease=0.0, min_impurity_split=None,\n",
       "            min_samples_leaf=1, min_samples_split=2,\n",
       "            min_weight_fraction_leaf=0.0, presort=False, random_state=None,\n",
       "            splitter='best')"
      ]
     },
     "execution_count": 126,
     "metadata": {},
     "output_type": "execute_result"
    }
   ],
   "source": [
    "tree = DecisionTreeClassifier(max_depth=2)\n",
    "tree.fit(wine_data.data[:, [feature1_index, feature2_index]], wine_data.target)"
   ]
  },
  {
   "cell_type": "code",
   "execution_count": 127,
   "metadata": {},
   "outputs": [
    {
     "data": {
      "image/svg+xml": [
       "<?xml version=\"1.0\" encoding=\"UTF-8\" standalone=\"no\"?>\n",
       "<!DOCTYPE svg PUBLIC \"-//W3C//DTD SVG 1.1//EN\"\n",
       " \"http://www.w3.org/Graphics/SVG/1.1/DTD/svg11.dtd\">\n",
       "<!-- Generated by graphviz version 2.38.0 (20140413.2041)\n",
       " -->\n",
       "<!-- Title: Tree Pages: 1 -->\n",
       "<svg width=\"534pt\" height=\"269pt\"\n",
       " viewBox=\"0.00 0.00 534.00 269.00\" xmlns=\"http://www.w3.org/2000/svg\" xmlns:xlink=\"http://www.w3.org/1999/xlink\">\n",
       "<g id=\"graph0\" class=\"graph\" transform=\"scale(1 1) rotate(0) translate(4 265)\">\n",
       "<title>Tree</title>\n",
       "<polygon fill=\"white\" stroke=\"none\" points=\"-4,4 -4,-265 530,-265 530,4 -4,4\"/>\n",
       "<!-- 0 -->\n",
       "<g id=\"node1\" class=\"node\"><title>0</title>\n",
       "<path fill=\"#39e581\" fill-opacity=\"0.101961\" stroke=\"black\" d=\"M316.5,-261C316.5,-261 208.5,-261 208.5,-261 202.5,-261 196.5,-255 196.5,-249 196.5,-249 196.5,-205 196.5,-205 196.5,-199 202.5,-193 208.5,-193 208.5,-193 316.5,-193 316.5,-193 322.5,-193 328.5,-199 328.5,-205 328.5,-205 328.5,-249 328.5,-249 328.5,-255 322.5,-261 316.5,-261\"/>\n",
       "<text text-anchor=\"start\" x=\"216\" y=\"-245.8\" font-family=\"Helvetica,sans-Serif\" font-size=\"14.00\">alcohol ≤ 12.78</text>\n",
       "<text text-anchor=\"start\" x=\"227\" y=\"-230.8\" font-family=\"Helvetica,sans-Serif\" font-size=\"14.00\">gini = 0.658</text>\n",
       "<text text-anchor=\"start\" x=\"217.5\" y=\"-215.8\" font-family=\"Helvetica,sans-Serif\" font-size=\"14.00\">samples = 178</text>\n",
       "<text text-anchor=\"start\" x=\"204.5\" y=\"-200.8\" font-family=\"Helvetica,sans-Serif\" font-size=\"14.00\">value = [59, 71, 48]</text>\n",
       "</g>\n",
       "<!-- 1 -->\n",
       "<g id=\"node2\" class=\"node\"><title>1</title>\n",
       "<path fill=\"#39e581\" fill-opacity=\"0.823529\" stroke=\"black\" d=\"M242,-157C242,-157 139,-157 139,-157 133,-157 127,-151 127,-145 127,-145 127,-101 127,-101 127,-95 133,-89 139,-89 139,-89 242,-89 242,-89 248,-89 254,-95 254,-101 254,-101 254,-145 254,-145 254,-151 248,-157 242,-157\"/>\n",
       "<text text-anchor=\"start\" x=\"135\" y=\"-141.8\" font-family=\"Helvetica,sans-Serif\" font-size=\"14.00\">flavanoids ≤ 0.955</text>\n",
       "<text text-anchor=\"start\" x=\"155\" y=\"-126.8\" font-family=\"Helvetica,sans-Serif\" font-size=\"14.00\">gini = 0.256</text>\n",
       "<text text-anchor=\"start\" x=\"149.5\" y=\"-111.8\" font-family=\"Helvetica,sans-Serif\" font-size=\"14.00\">samples = 73</text>\n",
       "<text text-anchor=\"start\" x=\"136\" y=\"-96.8\" font-family=\"Helvetica,sans-Serif\" font-size=\"14.00\">value = [0, 62, 11]</text>\n",
       "</g>\n",
       "<!-- 0&#45;&gt;1 -->\n",
       "<g id=\"edge1\" class=\"edge\"><title>0&#45;&gt;1</title>\n",
       "<path fill=\"none\" stroke=\"black\" d=\"M239.124,-192.884C232.962,-184.154 226.235,-174.625 219.804,-165.514\"/>\n",
       "<polygon fill=\"black\" stroke=\"black\" points=\"222.632,-163.451 214.005,-157.299 216.913,-167.487 222.632,-163.451\"/>\n",
       "<text text-anchor=\"middle\" x=\"209.758\" y=\"-178.236\" font-family=\"Helvetica,sans-Serif\" font-size=\"14.00\">True</text>\n",
       "</g>\n",
       "<!-- 4 -->\n",
       "<g id=\"node5\" class=\"node\"><title>4</title>\n",
       "<path fill=\"#e58139\" fill-opacity=\"0.321569\" stroke=\"black\" d=\"M385,-157C385,-157 284,-157 284,-157 278,-157 272,-151 272,-145 272,-145 272,-101 272,-101 272,-95 278,-89 284,-89 284,-89 385,-89 385,-89 391,-89 397,-95 397,-101 397,-101 397,-145 397,-145 397,-151 391,-157 385,-157\"/>\n",
       "<text text-anchor=\"start\" x=\"283\" y=\"-141.8\" font-family=\"Helvetica,sans-Serif\" font-size=\"14.00\">flavanoids ≤ 1.58</text>\n",
       "<text text-anchor=\"start\" x=\"299\" y=\"-126.8\" font-family=\"Helvetica,sans-Serif\" font-size=\"14.00\">gini = 0.553</text>\n",
       "<text text-anchor=\"start\" x=\"289.5\" y=\"-111.8\" font-family=\"Helvetica,sans-Serif\" font-size=\"14.00\">samples = 105</text>\n",
       "<text text-anchor=\"start\" x=\"280\" y=\"-96.8\" font-family=\"Helvetica,sans-Serif\" font-size=\"14.00\">value = [59, 9, 37]</text>\n",
       "</g>\n",
       "<!-- 0&#45;&gt;4 -->\n",
       "<g id=\"edge4\" class=\"edge\"><title>0&#45;&gt;4</title>\n",
       "<path fill=\"none\" stroke=\"black\" d=\"M285.876,-192.884C292.038,-184.154 298.765,-174.625 305.196,-165.514\"/>\n",
       "<polygon fill=\"black\" stroke=\"black\" points=\"308.087,-167.487 310.995,-157.299 302.368,-163.451 308.087,-167.487\"/>\n",
       "<text text-anchor=\"middle\" x=\"315.242\" y=\"-178.236\" font-family=\"Helvetica,sans-Serif\" font-size=\"14.00\">False</text>\n",
       "</g>\n",
       "<!-- 2 -->\n",
       "<g id=\"node3\" class=\"node\"><title>2</title>\n",
       "<path fill=\"#8139e5\" fill-opacity=\"0.901961\" stroke=\"black\" d=\"M105,-53C105,-53 12,-53 12,-53 6,-53 -7.10543e-15,-47 -7.10543e-15,-41 -7.10543e-15,-41 -7.10543e-15,-12 -7.10543e-15,-12 -7.10543e-15,-6 6,-0 12,-0 12,-0 105,-0 105,-0 111,-0 117,-6 117,-12 117,-12 117,-41 117,-41 117,-47 111,-53 105,-53\"/>\n",
       "<text text-anchor=\"start\" x=\"23\" y=\"-37.8\" font-family=\"Helvetica,sans-Serif\" font-size=\"14.00\">gini = 0.165</text>\n",
       "<text text-anchor=\"start\" x=\"17.5\" y=\"-22.8\" font-family=\"Helvetica,sans-Serif\" font-size=\"14.00\">samples = 11</text>\n",
       "<text text-anchor=\"start\" x=\"8\" y=\"-7.8\" font-family=\"Helvetica,sans-Serif\" font-size=\"14.00\">value = [0, 1, 10]</text>\n",
       "</g>\n",
       "<!-- 1&#45;&gt;2 -->\n",
       "<g id=\"edge2\" class=\"edge\"><title>1&#45;&gt;2</title>\n",
       "<path fill=\"none\" stroke=\"black\" d=\"M144.333,-88.9485C130.788,-79.2516 116.015,-68.6752 102.602,-59.073\"/>\n",
       "<polygon fill=\"black\" stroke=\"black\" points=\"104.618,-56.212 94.4497,-53.2367 100.543,-61.9038 104.618,-56.212\"/>\n",
       "</g>\n",
       "<!-- 3 -->\n",
       "<g id=\"node4\" class=\"node\"><title>3</title>\n",
       "<path fill=\"#39e581\" fill-opacity=\"0.984314\" stroke=\"black\" d=\"M240,-53C240,-53 147,-53 147,-53 141,-53 135,-47 135,-41 135,-41 135,-12 135,-12 135,-6 141,-0 147,-0 147,-0 240,-0 240,-0 246,-0 252,-6 252,-12 252,-12 252,-41 252,-41 252,-47 246,-53 240,-53\"/>\n",
       "<text text-anchor=\"start\" x=\"158\" y=\"-37.8\" font-family=\"Helvetica,sans-Serif\" font-size=\"14.00\">gini = 0.032</text>\n",
       "<text text-anchor=\"start\" x=\"152.5\" y=\"-22.8\" font-family=\"Helvetica,sans-Serif\" font-size=\"14.00\">samples = 62</text>\n",
       "<text text-anchor=\"start\" x=\"143\" y=\"-7.8\" font-family=\"Helvetica,sans-Serif\" font-size=\"14.00\">value = [0, 61, 1]</text>\n",
       "</g>\n",
       "<!-- 1&#45;&gt;3 -->\n",
       "<g id=\"edge3\" class=\"edge\"><title>1&#45;&gt;3</title>\n",
       "<path fill=\"none\" stroke=\"black\" d=\"M191.549,-88.9485C191.811,-80.7153 192.092,-71.848 192.358,-63.4814\"/>\n",
       "<polygon fill=\"black\" stroke=\"black\" points=\"195.864,-63.3428 192.683,-53.2367 188.867,-63.1206 195.864,-63.3428\"/>\n",
       "</g>\n",
       "<!-- 5 -->\n",
       "<g id=\"node6\" class=\"node\"><title>5</title>\n",
       "<path fill=\"#8139e5\" fill-opacity=\"0.972549\" stroke=\"black\" d=\"M379,-53C379,-53 286,-53 286,-53 280,-53 274,-47 274,-41 274,-41 274,-12 274,-12 274,-6 280,-0 286,-0 286,-0 379,-0 379,-0 385,-0 391,-6 391,-12 391,-12 391,-41 391,-41 391,-47 385,-53 379,-53\"/>\n",
       "<text text-anchor=\"start\" x=\"297\" y=\"-37.8\" font-family=\"Helvetica,sans-Serif\" font-size=\"14.00\">gini = 0.051</text>\n",
       "<text text-anchor=\"start\" x=\"291.5\" y=\"-22.8\" font-family=\"Helvetica,sans-Serif\" font-size=\"14.00\">samples = 38</text>\n",
       "<text text-anchor=\"start\" x=\"282\" y=\"-7.8\" font-family=\"Helvetica,sans-Serif\" font-size=\"14.00\">value = [0, 1, 37]</text>\n",
       "</g>\n",
       "<!-- 4&#45;&gt;5 -->\n",
       "<g id=\"edge5\" class=\"edge\"><title>4&#45;&gt;5</title>\n",
       "<path fill=\"none\" stroke=\"black\" d=\"M333.8,-88.9485C333.626,-80.7153 333.439,-71.848 333.262,-63.4814\"/>\n",
       "<polygon fill=\"black\" stroke=\"black\" points=\"336.756,-63.1604 333.045,-53.2367 329.757,-63.3086 336.756,-63.1604\"/>\n",
       "</g>\n",
       "<!-- 6 -->\n",
       "<g id=\"node7\" class=\"node\"><title>6</title>\n",
       "<path fill=\"#e58139\" fill-opacity=\"0.862745\" stroke=\"black\" d=\"M514,-53C514,-53 421,-53 421,-53 415,-53 409,-47 409,-41 409,-41 409,-12 409,-12 409,-6 415,-0 421,-0 421,-0 514,-0 514,-0 520,-0 526,-6 526,-12 526,-12 526,-41 526,-41 526,-47 520,-53 514,-53\"/>\n",
       "<text text-anchor=\"start\" x=\"435.5\" y=\"-37.8\" font-family=\"Helvetica,sans-Serif\" font-size=\"14.00\">gini = 0.21</text>\n",
       "<text text-anchor=\"start\" x=\"426.5\" y=\"-22.8\" font-family=\"Helvetica,sans-Serif\" font-size=\"14.00\">samples = 67</text>\n",
       "<text text-anchor=\"start\" x=\"417\" y=\"-7.8\" font-family=\"Helvetica,sans-Serif\" font-size=\"14.00\">value = [59, 8, 0]</text>\n",
       "</g>\n",
       "<!-- 4&#45;&gt;6 -->\n",
       "<g id=\"edge6\" class=\"edge\"><title>4&#45;&gt;6</title>\n",
       "<path fill=\"none\" stroke=\"black\" d=\"M381.017,-88.9485C394.664,-79.2516 409.55,-68.6752 423.064,-59.073\"/>\n",
       "<polygon fill=\"black\" stroke=\"black\" points=\"425.153,-61.882 431.278,-53.2367 421.099,-56.1757 425.153,-61.882\"/>\n",
       "</g>\n",
       "</g>\n",
       "</svg>\n"
      ],
      "text/plain": [
       "<graphviz.files.Source at 0x7f092c261438>"
      ]
     },
     "execution_count": 127,
     "metadata": {},
     "output_type": "execute_result"
    }
   ],
   "source": [
    "dot_data_tree = export_graphviz(tree2, out_file=None, \n",
    "                         feature_names=[wine_data.feature_names[feature1_index],wine_data.feature_names[feature2_index]],  \n",
    "                         filled=True, rounded=True,  \n",
    "                         special_characters=True) \n",
    "graphviz.Source(dot_data_tree)"
   ]
  },
  {
   "cell_type": "code",
   "execution_count": 128,
   "metadata": {},
   "outputs": [
    {
     "data": {
      "text/html": [
       "<iframe id=\"igraph\" scrolling=\"no\" style=\"border:none;\" seamless=\"seamless\" src=\"https://plot.ly/~vlandeau/58.embed\" height=\"525px\" width=\"100%\"></iframe>"
      ],
      "text/plain": [
       "<plotly.tools.PlotlyDisplay object>"
      ]
     },
     "execution_count": 128,
     "metadata": {},
     "output_type": "execute_result"
    }
   ],
   "source": [
    "feature1_index = 6\n",
    "feature2_index = 0\n",
    "\n",
    "x_min, x_max = wine_data.data[:, feature1_index].min() - 1, wine_data.data[:, feature1_index].max() + 1\n",
    "y_min, y_max = wine_data.data[:, feature2_index].min() - 1, wine_data.data[:, feature2_index].max() + 1\n",
    "xx, yy = np.meshgrid(np.arange(x_min, x_max, 0.1),\n",
    "                     np.arange(y_min, y_max, 0.1))\n",
    "y_ = np.arange(y_min, y_max, 0.1)\n",
    "z = tree.predict(np.c_[xx.ravel(), yy.ravel()]).reshape(xx.shape)\n",
    "\n",
    "trace0 = go.Scatter(\n",
    "    x = wine_data.data[wine_data.target == 0, feature1_index],\n",
    "    y = wine_data.data[wine_data.target == 0, feature2_index],\n",
    "    name = 'Type 0',\n",
    "    mode = 'markers',\n",
    "    marker = dict(\n",
    "        size = 10,\n",
    "        color = 'rgba(0, 0, 152, .8)',\n",
    "        line = dict(\n",
    "            width = 2,\n",
    "            color = 'rgb(0, 0, 0)'\n",
    "        )\n",
    "    )\n",
    ")\n",
    "\n",
    "trace1 = go.Scatter(\n",
    "    x = wine_data.data[wine_data.target == 1, feature1_index],\n",
    "    y = wine_data.data[wine_data.target == 1, feature2_index],\n",
    "    name = 'Type 1',\n",
    "    mode = 'markers',\n",
    "    marker = dict(\n",
    "        size = 10,\n",
    "        color = 'rgba(0, 152, 0, .8)',\n",
    "        line = dict(\n",
    "            width = 2,\n",
    "            color = 'rgb(0, 0, 0)'\n",
    "        )\n",
    "    )\n",
    ")\n",
    "\n",
    "trace2 = go.Scatter(\n",
    "    x = wine_data.data[wine_data.target == 2, feature1_index],\n",
    "    y = wine_data.data[wine_data.target == 2, feature2_index],\n",
    "    name = 'Type 2',\n",
    "    mode = 'markers',\n",
    "    marker = dict(\n",
    "        size = 10,\n",
    "        color = 'rgba(152, 0, 0, .8)',\n",
    "        line = dict(\n",
    "            width = 2,\n",
    "            color = 'rgb(0, 0, 0)'\n",
    "        )\n",
    "    )\n",
    ")\n",
    "\n",
    "contour = go.Contour(\n",
    "    x=xx[0], y=y_, \n",
    "    z=z,\n",
    "    colorscale=[[0, 'blue'],\n",
    "                [1, 'yellow'],\n",
    "                [2, 'red']\n",
    "               ],\n",
    "    opacity=0.5,\n",
    "    showscale=False\n",
    ")\n",
    "\n",
    "trace_unknowns = go.Scatter(\n",
    "    x = [3.5, 2.4],\n",
    "    y = [12.1, 13.2],\n",
    "    name = \"Inconnus\",\n",
    "    mode = \"markers\",\n",
    "    marker = dict(\n",
    "        size = 10,\n",
    "        color = 'rgba(0, 0, 0, 0.15)',\n",
    "        line = dict(width = 2,)\n",
    "    )\n",
    ")\n",
    "\n",
    "data = [trace0, trace1, trace2, contour, trace_unknowns]\n",
    "\n",
    "\n",
    "layout = dict(title = 'Vins',\n",
    "              xaxis = dict(title = wine_data.feature_names[feature1_index]),\n",
    "              yaxis = dict(title = wine_data.feature_names[feature2_index])\n",
    "             )\n",
    "\n",
    "py.iplot({\"data\": data, \"layout\": layout}, filename='basic-scatter')"
   ]
  },
  {
   "cell_type": "code",
   "execution_count": 129,
   "metadata": {},
   "outputs": [
    {
     "data": {
      "text/plain": [
       "KNeighborsClassifier(algorithm='auto', leaf_size=30, metric='minkowski',\n",
       "           metric_params=None, n_jobs=1, n_neighbors=6, p=2,\n",
       "           weights='uniform')"
      ]
     },
     "execution_count": 129,
     "metadata": {},
     "output_type": "execute_result"
    }
   ],
   "source": [
    "knn = KNeighborsClassifier(n_neighbors=6)\n",
    "knn.fit(wine_data.data[:, [feature1_index, feature2_index]], wine_data.target)"
   ]
  },
  {
   "cell_type": "code",
   "execution_count": 130,
   "metadata": {},
   "outputs": [
    {
     "data": {
      "text/html": [
       "<iframe id=\"igraph\" scrolling=\"no\" style=\"border:none;\" seamless=\"seamless\" src=\"https://plot.ly/~vlandeau/58.embed\" height=\"525px\" width=\"100%\"></iframe>"
      ],
      "text/plain": [
       "<plotly.tools.PlotlyDisplay object>"
      ]
     },
     "execution_count": 130,
     "metadata": {},
     "output_type": "execute_result"
    }
   ],
   "source": [
    "x_min, x_max = wine_data.data[:, feature1_index].min() - 1, wine_data.data[:, feature1_index].max() + 1\n",
    "y_min, y_max = wine_data.data[:, feature2_index].min() - 1, wine_data.data[:, feature2_index].max() + 1\n",
    "xx, yy = np.meshgrid(np.arange(x_min, x_max, 0.1),\n",
    "                     np.arange(y_min, y_max, 0.1))\n",
    "y_ = np.arange(y_min, y_max, 0.1)\n",
    "z = knn.predict(np.c_[xx.ravel(), yy.ravel()]).reshape(xx.shape)\n",
    "\n",
    "feature1_index = 6\n",
    "feature2_index = 0\n",
    "\n",
    "trace0 = go.Scatter(\n",
    "    x = wine_data.data[wine_data.target == 0, feature1_index],\n",
    "    y = wine_data.data[wine_data.target == 0, feature2_index],\n",
    "    name = 'Type 0',\n",
    "    mode = 'markers',\n",
    "    marker = dict(\n",
    "        size = 10,\n",
    "        color = 'rgba(0, 0, 152, .8)',\n",
    "        line = dict(\n",
    "            width = 2,\n",
    "            color = 'rgb(0, 0, 0)'\n",
    "        )\n",
    "    )\n",
    ")\n",
    "\n",
    "trace1 = go.Scatter(\n",
    "    x = wine_data.data[wine_data.target == 1, feature1_index],\n",
    "    y = wine_data.data[wine_data.target == 1, feature2_index],\n",
    "    name = 'Type 1',\n",
    "    mode = 'markers',\n",
    "    marker = dict(\n",
    "        size = 10,\n",
    "        color = 'rgba(0, 152, 0, .8)',\n",
    "        line = dict(\n",
    "            width = 2,\n",
    "            color = 'rgb(0, 0, 0)'\n",
    "        )\n",
    "    )\n",
    ")\n",
    "\n",
    "trace2 = go.Scatter(\n",
    "    x = wine_data.data[wine_data.target == 2, feature1_index],\n",
    "    y = wine_data.data[wine_data.target == 2, feature2_index],\n",
    "    name = 'Type 2',\n",
    "    mode = 'markers',\n",
    "    marker = dict(\n",
    "        size = 10,\n",
    "        color = 'rgba(152, 0, 0, .8)',\n",
    "        line = dict(\n",
    "            width = 2,\n",
    "            color = 'rgb(0, 0, 0)'\n",
    "        )\n",
    "    )\n",
    ")\n",
    "\n",
    "contour = go.Contour(\n",
    "    x=xx[0], y=y_, \n",
    "    z=z,\n",
    "    colorscale=[[0, 'blue'],\n",
    "                [1, 'yellow'],\n",
    "                [2, 'red']\n",
    "               ],\n",
    "    opacity=0.5,\n",
    "    showscale=False\n",
    ")\n",
    "\n",
    "trace_unknowns = go.Scatter(\n",
    "    x = [3.5, 2.4],\n",
    "    y = [12.1, 13.2],\n",
    "    name = \"Inconnus\",\n",
    "    mode = \"markers\",\n",
    "    marker = dict(\n",
    "        size = 10,\n",
    "        color = 'rgba(0, 0, 0, 0.15)',\n",
    "        line = dict(width = 2,)\n",
    "    )\n",
    ")\n",
    "\n",
    "data = [trace0, trace1, trace2, contour, trace_unknowns]\n",
    "\n",
    "\n",
    "layout = dict(title = 'Vins',\n",
    "              xaxis = dict(title = wine_data.feature_names[feature1_index]),\n",
    "              yaxis = dict(title = wine_data.feature_names[feature2_index])\n",
    "             )\n",
    "\n",
    "py.iplot({\"data\": data, \"layout\": layout}, filename='basic-scatter')"
   ]
  },
  {
   "cell_type": "markdown",
   "metadata": {
    "collapsed": true
   },
   "source": [
    "# Regression"
   ]
  },
  {
   "cell_type": "code",
   "execution_count": 131,
   "metadata": {},
   "outputs": [],
   "source": [
    "diabete_data = datasets.load_diabetes()"
   ]
  },
  {
   "cell_type": "code",
   "execution_count": 132,
   "metadata": {},
   "outputs": [
    {
     "data": {
      "text/plain": [
       "['age', 'sex', 'bmi', 'bp', 's1', 's2', 's3', 's4', 's5', 's6']"
      ]
     },
     "execution_count": 132,
     "metadata": {},
     "output_type": "execute_result"
    }
   ],
   "source": [
    "diabete_data.feature_names"
   ]
  },
  {
   "cell_type": "code",
   "execution_count": 133,
   "metadata": {},
   "outputs": [
    {
     "data": {
      "text/html": [
       "<iframe id=\"igraph\" scrolling=\"no\" style=\"border:none;\" seamless=\"seamless\" src=\"https://plot.ly/~vlandeau/60.embed\" height=\"525px\" width=\"100%\"></iframe>"
      ],
      "text/plain": [
       "<plotly.tools.PlotlyDisplay object>"
      ]
     },
     "execution_count": 133,
     "metadata": {},
     "output_type": "execute_result"
    }
   ],
   "source": [
    "feature1_index = 2\n",
    "\n",
    "trace0 = go.Scatter(\n",
    "    x = diabete_data.data[:, feature1_index],\n",
    "    y = diabete_data.target,\n",
    "    mode = 'markers',\n",
    "    marker = dict(\n",
    "        size = 10,\n",
    "        line = dict(\n",
    "            width = 2,\n",
    "            color = 'blue'\n",
    "        )\n",
    "    )\n",
    ")\n",
    "\n",
    "data = [trace0]\n",
    "\n",
    "\n",
    "layout = dict(title = 'Diabete response',\n",
    "              xaxis = dict(title = diabete_data.feature_names[feature1_index]),\n",
    "              yaxis = dict(title = \"Diabete response\")\n",
    "             )\n",
    "\n",
    "py.iplot({\"data\": data, \"layout\": layout})"
   ]
  },
  {
   "cell_type": "code",
   "execution_count": 134,
   "metadata": {},
   "outputs": [
    {
     "data": {
      "text/plain": [
       "LinearRegression(copy_X=True, fit_intercept=True, n_jobs=1, normalize=False)"
      ]
     },
     "execution_count": 134,
     "metadata": {},
     "output_type": "execute_result"
    }
   ],
   "source": [
    "lr = LinearRegression()\n",
    "lr.fit(diabete_data.data[:, [feature1_index]], diabete_data.target)"
   ]
  },
  {
   "cell_type": "code",
   "execution_count": 135,
   "metadata": {},
   "outputs": [
    {
     "data": {
      "text/html": [
       "<iframe id=\"igraph\" scrolling=\"no\" style=\"border:none;\" seamless=\"seamless\" src=\"https://plot.ly/~vlandeau/62.embed\" height=\"525px\" width=\"100%\"></iframe>"
      ],
      "text/plain": [
       "<plotly.tools.PlotlyDisplay object>"
      ]
     },
     "execution_count": 135,
     "metadata": {},
     "output_type": "execute_result"
    }
   ],
   "source": [
    "feature1_index = 2\n",
    "\n",
    "trace0 = go.Scatter(\n",
    "    x = diabete_data.data[:, feature1_index],\n",
    "    y = diabete_data.target,\n",
    "    mode = 'markers',\n",
    "    name = 'acutal repsonses',\n",
    "    marker = dict(\n",
    "        size = 10,\n",
    "        line = dict(\n",
    "            width = 2,\n",
    "            color = 'blue'\n",
    "        )\n",
    "    )\n",
    ")\n",
    "\n",
    "trace1 = go.Scatter(\n",
    "    x = diabete_data.data[:, [feature1_index]],\n",
    "    y = lr.predict(diabete_data.data[:, [feature1_index]]),\n",
    "    mode = 'line',\n",
    "    name = 'predicted response',\n",
    "    marker = dict(\n",
    "        size = 10,\n",
    "        line = dict(\n",
    "            width = 2,\n",
    "            color = 'red'\n",
    "        )\n",
    "    )\n",
    ")\n",
    "\n",
    "data = [trace0, trace1]\n",
    "\n",
    "\n",
    "layout = dict(title = 'Diabete response',\n",
    "              xaxis = dict(title = diabete_data.feature_names[feature1_index]),\n",
    "              yaxis = dict(title = \"Diabete response\")\n",
    "             )\n",
    "\n",
    "py.iplot({\"data\": data, \"layout\": layout})"
   ]
  },
  {
   "cell_type": "code",
   "execution_count": 136,
   "metadata": {},
   "outputs": [
    {
     "data": {
      "text/plain": [
       "DecisionTreeRegressor(criterion='mse', max_depth=2, max_features=None,\n",
       "           max_leaf_nodes=None, min_impurity_decrease=0.0,\n",
       "           min_impurity_split=None, min_samples_leaf=1,\n",
       "           min_samples_split=2, min_weight_fraction_leaf=0.0,\n",
       "           presort=False, random_state=None, splitter='best')"
      ]
     },
     "execution_count": 136,
     "metadata": {},
     "output_type": "execute_result"
    }
   ],
   "source": [
    "rtree = DecisionTreeRegressor(max_depth=2)\n",
    "rtree.fit(diabete_data.data[:, [feature1_index]], diabete_data.target)"
   ]
  },
  {
   "cell_type": "code",
   "execution_count": 137,
   "metadata": {},
   "outputs": [
    {
     "data": {
      "image/svg+xml": [
       "<?xml version=\"1.0\" encoding=\"UTF-8\" standalone=\"no\"?>\n",
       "<!DOCTYPE svg PUBLIC \"-//W3C//DTD SVG 1.1//EN\"\n",
       " \"http://www.w3.org/Graphics/SVG/1.1/DTD/svg11.dtd\">\n",
       "<!-- Generated by graphviz version 2.38.0 (20140413.2041)\n",
       " -->\n",
       "<!-- Title: Tree Pages: 1 -->\n",
       "<svg width=\"522pt\" height=\"269pt\"\n",
       " viewBox=\"0.00 0.00 522.00 269.00\" xmlns=\"http://www.w3.org/2000/svg\" xmlns:xlink=\"http://www.w3.org/1999/xlink\">\n",
       "<g id=\"graph0\" class=\"graph\" transform=\"scale(1 1) rotate(0) translate(4 265)\">\n",
       "<title>Tree</title>\n",
       "<polygon fill=\"white\" stroke=\"none\" points=\"-4,4 -4,-265 518,-265 518,4 -4,4\"/>\n",
       "<!-- 0 -->\n",
       "<g id=\"node1\" class=\"node\"><title>0</title>\n",
       "<path fill=\"#e58139\" fill-opacity=\"0.294118\" stroke=\"black\" d=\"M302,-261C302,-261 211,-261 211,-261 205,-261 199,-255 199,-249 199,-249 199,-205 199,-205 199,-199 205,-193 211,-193 211,-193 302,-193 302,-193 308,-193 314,-199 314,-205 314,-205 314,-249 314,-249 314,-255 308,-261 302,-261\"/>\n",
       "<text text-anchor=\"start\" x=\"220\" y=\"-245.8\" font-family=\"Helvetica,sans-Serif\" font-size=\"14.00\">bmi ≤ 0.009</text>\n",
       "<text text-anchor=\"start\" x=\"207\" y=\"-230.8\" font-family=\"Helvetica,sans-Serif\" font-size=\"14.00\">mse = 5929.885</text>\n",
       "<text text-anchor=\"start\" x=\"211.5\" y=\"-215.8\" font-family=\"Helvetica,sans-Serif\" font-size=\"14.00\">samples = 442</text>\n",
       "<text text-anchor=\"start\" x=\"208\" y=\"-200.8\" font-family=\"Helvetica,sans-Serif\" font-size=\"14.00\">value = 152.133</text>\n",
       "</g>\n",
       "<!-- 1 -->\n",
       "<g id=\"node2\" class=\"node\"><title>1</title>\n",
       "<path fill=\"#e58139\" fill-opacity=\"0.098039\" stroke=\"black\" d=\"M235,-157C235,-157 146,-157 146,-157 140,-157 134,-151 134,-145 134,-145 134,-101 134,-101 134,-95 140,-89 146,-89 146,-89 235,-89 235,-89 241,-89 247,-95 247,-101 247,-101 247,-145 247,-145 247,-151 241,-157 235,-157\"/>\n",
       "<text text-anchor=\"start\" x=\"152\" y=\"-141.8\" font-family=\"Helvetica,sans-Serif\" font-size=\"14.00\">bmi ≤ &#45;0.022</text>\n",
       "<text text-anchor=\"start\" x=\"145\" y=\"-126.8\" font-family=\"Helvetica,sans-Serif\" font-size=\"14.00\">mse = 3812.99</text>\n",
       "<text text-anchor=\"start\" x=\"145.5\" y=\"-111.8\" font-family=\"Helvetica,sans-Serif\" font-size=\"14.00\">samples = 277</text>\n",
       "<text text-anchor=\"start\" x=\"142\" y=\"-96.8\" font-family=\"Helvetica,sans-Serif\" font-size=\"14.00\">value = 120.776</text>\n",
       "</g>\n",
       "<!-- 0&#45;&gt;1 -->\n",
       "<g id=\"edge1\" class=\"edge\"><title>0&#45;&gt;1</title>\n",
       "<path fill=\"none\" stroke=\"black\" d=\"M235.072,-192.884C229.481,-184.243 223.383,-174.819 217.542,-165.793\"/>\n",
       "<polygon fill=\"black\" stroke=\"black\" points=\"220.418,-163.794 212.047,-157.299 214.541,-167.596 220.418,-163.794\"/>\n",
       "<text text-anchor=\"middle\" x=\"206.808\" y=\"-178.044\" font-family=\"Helvetica,sans-Serif\" font-size=\"14.00\">True</text>\n",
       "</g>\n",
       "<!-- 4 -->\n",
       "<g id=\"node5\" class=\"node\"><title>4</title>\n",
       "<path fill=\"#e58139\" fill-opacity=\"0.627451\" stroke=\"black\" d=\"M369,-157C369,-157 278,-157 278,-157 272,-157 266,-151 266,-145 266,-145 266,-101 266,-101 266,-95 272,-89 278,-89 278,-89 369,-89 369,-89 375,-89 381,-95 381,-101 381,-101 381,-145 381,-145 381,-151 375,-157 369,-157\"/>\n",
       "<text text-anchor=\"start\" x=\"287\" y=\"-141.8\" font-family=\"Helvetica,sans-Serif\" font-size=\"14.00\">bmi ≤ 0.073</text>\n",
       "<text text-anchor=\"start\" x=\"274\" y=\"-126.8\" font-family=\"Helvetica,sans-Serif\" font-size=\"14.00\">mse = 5061.774</text>\n",
       "<text text-anchor=\"start\" x=\"278.5\" y=\"-111.8\" font-family=\"Helvetica,sans-Serif\" font-size=\"14.00\">samples = 165</text>\n",
       "<text text-anchor=\"start\" x=\"275\" y=\"-96.8\" font-family=\"Helvetica,sans-Serif\" font-size=\"14.00\">value = 204.776</text>\n",
       "</g>\n",
       "<!-- 0&#45;&gt;4 -->\n",
       "<g id=\"edge4\" class=\"edge\"><title>0&#45;&gt;4</title>\n",
       "<path fill=\"none\" stroke=\"black\" d=\"M278.253,-192.884C283.928,-184.243 290.119,-174.819 296.048,-165.793\"/>\n",
       "<polygon fill=\"black\" stroke=\"black\" points=\"299.062,-167.579 301.627,-157.299 293.211,-163.736 299.062,-167.579\"/>\n",
       "<text text-anchor=\"middle\" x=\"306.697\" y=\"-178.08\" font-family=\"Helvetica,sans-Serif\" font-size=\"14.00\">False</text>\n",
       "</g>\n",
       "<!-- 2 -->\n",
       "<g id=\"node3\" class=\"node\"><title>2</title>\n",
       "<path fill=\"none\" stroke=\"black\" d=\"M103,-53C103,-53 12,-53 12,-53 6,-53 7.10543e-15,-47 7.10543e-15,-41 7.10543e-15,-41 7.10543e-15,-12 7.10543e-15,-12 7.10543e-15,-6 6,-0 12,-0 12,-0 103,-0 103,-0 109,-0 115,-6 115,-12 115,-12 115,-41 115,-41 115,-47 109,-53 103,-53\"/>\n",
       "<text text-anchor=\"start\" x=\"8\" y=\"-37.8\" font-family=\"Helvetica,sans-Serif\" font-size=\"14.00\">mse = 2452.053</text>\n",
       "<text text-anchor=\"start\" x=\"12.5\" y=\"-22.8\" font-family=\"Helvetica,sans-Serif\" font-size=\"14.00\">samples = 165</text>\n",
       "<text text-anchor=\"start\" x=\"9\" y=\"-7.8\" font-family=\"Helvetica,sans-Serif\" font-size=\"14.00\">value = 105.042</text>\n",
       "</g>\n",
       "<!-- 1&#45;&gt;2 -->\n",
       "<g id=\"edge2\" class=\"edge\"><title>1&#45;&gt;2</title>\n",
       "<path fill=\"none\" stroke=\"black\" d=\"M143.983,-88.9485C130.336,-79.2516 115.45,-68.6752 101.936,-59.073\"/>\n",
       "<polygon fill=\"black\" stroke=\"black\" points=\"103.901,-56.1757 93.722,-53.2367 99.8466,-61.882 103.901,-56.1757\"/>\n",
       "</g>\n",
       "<!-- 3 -->\n",
       "<g id=\"node4\" class=\"node\"><title>3</title>\n",
       "<path fill=\"#e58139\" fill-opacity=\"0.243137\" stroke=\"black\" d=\"M236,-53C236,-53 145,-53 145,-53 139,-53 133,-47 133,-41 133,-41 133,-12 133,-12 133,-6 139,-0 145,-0 145,-0 236,-0 236,-0 242,-0 248,-6 248,-12 248,-12 248,-41 248,-41 248,-47 242,-53 236,-53\"/>\n",
       "<text text-anchor=\"start\" x=\"141\" y=\"-37.8\" font-family=\"Helvetica,sans-Serif\" font-size=\"14.00\">mse = 4915.971</text>\n",
       "<text text-anchor=\"start\" x=\"145.5\" y=\"-22.8\" font-family=\"Helvetica,sans-Serif\" font-size=\"14.00\">samples = 112</text>\n",
       "<text text-anchor=\"start\" x=\"142\" y=\"-7.8\" font-family=\"Helvetica,sans-Serif\" font-size=\"14.00\">value = 143.955</text>\n",
       "</g>\n",
       "<!-- 1&#45;&gt;3 -->\n",
       "<g id=\"edge3\" class=\"edge\"><title>1&#45;&gt;3</title>\n",
       "<path fill=\"none\" stroke=\"black\" d=\"M190.5,-88.9485C190.5,-80.7153 190.5,-71.848 190.5,-63.4814\"/>\n",
       "<polygon fill=\"black\" stroke=\"black\" points=\"194,-63.2367 190.5,-53.2367 187,-63.2367 194,-63.2367\"/>\n",
       "</g>\n",
       "<!-- 5 -->\n",
       "<g id=\"node6\" class=\"node\"><title>5</title>\n",
       "<path fill=\"#e58139\" fill-opacity=\"0.545098\" stroke=\"black\" d=\"M369,-53C369,-53 278,-53 278,-53 272,-53 266,-47 266,-41 266,-41 266,-12 266,-12 266,-6 272,-0 278,-0 278,-0 369,-0 369,-0 375,-0 381,-6 381,-12 381,-12 381,-41 381,-41 381,-47 375,-53 369,-53\"/>\n",
       "<text text-anchor=\"start\" x=\"274\" y=\"-37.8\" font-family=\"Helvetica,sans-Serif\" font-size=\"14.00\">mse = 4624.528</text>\n",
       "<text text-anchor=\"start\" x=\"278.5\" y=\"-22.8\" font-family=\"Helvetica,sans-Serif\" font-size=\"14.00\">samples = 135</text>\n",
       "<text text-anchor=\"start\" x=\"275\" y=\"-7.8\" font-family=\"Helvetica,sans-Serif\" font-size=\"14.00\">value = 191.563</text>\n",
       "</g>\n",
       "<!-- 4&#45;&gt;5 -->\n",
       "<g id=\"edge5\" class=\"edge\"><title>4&#45;&gt;5</title>\n",
       "<path fill=\"none\" stroke=\"black\" d=\"M323.5,-88.9485C323.5,-80.7153 323.5,-71.848 323.5,-63.4814\"/>\n",
       "<polygon fill=\"black\" stroke=\"black\" points=\"327,-63.2367 323.5,-53.2367 320,-63.2367 327,-63.2367\"/>\n",
       "</g>\n",
       "<!-- 6 -->\n",
       "<g id=\"node7\" class=\"node\"><title>6</title>\n",
       "<path fill=\"#e58139\" stroke=\"black\" d=\"M502,-53C502,-53 411,-53 411,-53 405,-53 399,-47 399,-41 399,-41 399,-12 399,-12 399,-6 405,-0 411,-0 411,-0 502,-0 502,-0 508,-0 514,-6 514,-12 514,-12 514,-41 514,-41 514,-47 508,-53 502,-53\"/>\n",
       "<text text-anchor=\"start\" x=\"407\" y=\"-37.8\" font-family=\"Helvetica,sans-Serif\" font-size=\"14.00\">mse = 2708.579</text>\n",
       "<text text-anchor=\"start\" x=\"415.5\" y=\"-22.8\" font-family=\"Helvetica,sans-Serif\" font-size=\"14.00\">samples = 30</text>\n",
       "<text text-anchor=\"start\" x=\"408\" y=\"-7.8\" font-family=\"Helvetica,sans-Serif\" font-size=\"14.00\">value = 264.233</text>\n",
       "</g>\n",
       "<!-- 4&#45;&gt;6 -->\n",
       "<g id=\"edge6\" class=\"edge\"><title>4&#45;&gt;6</title>\n",
       "<path fill=\"none\" stroke=\"black\" d=\"M370.017,-88.9485C383.664,-79.2516 398.55,-68.6752 412.064,-59.073\"/>\n",
       "<polygon fill=\"black\" stroke=\"black\" points=\"414.153,-61.882 420.278,-53.2367 410.099,-56.1757 414.153,-61.882\"/>\n",
       "</g>\n",
       "</g>\n",
       "</svg>\n"
      ],
      "text/plain": [
       "<graphviz.files.Source at 0x7f091f0017b8>"
      ]
     },
     "execution_count": 137,
     "metadata": {},
     "output_type": "execute_result"
    }
   ],
   "source": [
    "dot_data_tree = export_graphviz(rtree, out_file=None, \n",
    "                         feature_names=[\"bmi\"],  \n",
    "                         filled=True, rounded=True,  \n",
    "                         special_characters=True) \n",
    "graphviz.Source(dot_data_tree)"
   ]
  },
  {
   "cell_type": "code",
   "execution_count": 138,
   "metadata": {},
   "outputs": [
    {
     "data": {
      "text/html": [
       "<iframe id=\"igraph\" scrolling=\"no\" style=\"border:none;\" seamless=\"seamless\" src=\"https://plot.ly/~vlandeau/64.embed\" height=\"525px\" width=\"100%\"></iframe>"
      ],
      "text/plain": [
       "<plotly.tools.PlotlyDisplay object>"
      ]
     },
     "execution_count": 138,
     "metadata": {},
     "output_type": "execute_result"
    }
   ],
   "source": [
    "feature1_index = 2\n",
    "\n",
    "trace0 = go.Scatter(\n",
    "    x = diabete_data.data[:, feature1_index],\n",
    "    y = diabete_data.target,\n",
    "    mode = 'markers',\n",
    "    name = 'acutal repsonses',\n",
    "    marker = dict(\n",
    "        size = 10,\n",
    "        line = dict(\n",
    "            width = 2,\n",
    "            color = 'blue'\n",
    "        )\n",
    "    )\n",
    ")\n",
    "\n",
    "trace1 = go.Scatter(\n",
    "    x = sorted(diabete_data.data[:, [feature1_index]]),\n",
    "    y = rtree.predict(sorted(diabete_data.data[:, [feature1_index]])),\n",
    "    mode = 'line',\n",
    "    name = 'predicted response',\n",
    "    marker = dict(\n",
    "        size = 10,\n",
    "        line = dict(\n",
    "            width = 2,\n",
    "            color = 'red'\n",
    "        )\n",
    "    )\n",
    ")\n",
    "\n",
    "data = [trace0, trace1]\n",
    "\n",
    "\n",
    "layout = dict(title = 'Diabete response',\n",
    "              xaxis = dict(title = diabete_data.feature_names[feature1_index]),\n",
    "              yaxis = dict(title = \"Diabete response\")\n",
    "             )\n",
    "\n",
    "py.iplot({\"data\": data, \"layout\": layout})"
   ]
  },
  {
   "cell_type": "code",
   "execution_count": null,
   "metadata": {
    "collapsed": true
   },
   "outputs": [],
   "source": []
  },
  {
   "cell_type": "markdown",
   "metadata": {},
   "source": [
    "# Validation du modèle"
   ]
  },
  {
   "cell_type": "code",
   "execution_count": 147,
   "metadata": {},
   "outputs": [
    {
     "data": {
      "text/plain": [
       "DecisionTreeClassifier(class_weight=None, criterion='gini', max_depth=12,\n",
       "            max_features=None, max_leaf_nodes=None,\n",
       "            min_impurity_decrease=0.0, min_impurity_split=None,\n",
       "            min_samples_leaf=1, min_samples_split=2,\n",
       "            min_weight_fraction_leaf=0.0, presort=False, random_state=None,\n",
       "            splitter='best')"
      ]
     },
     "execution_count": 147,
     "metadata": {},
     "output_type": "execute_result"
    }
   ],
   "source": [
    "tree = DecisionTreeClassifier(max_depth=12)\n",
    "tree.fit(wine_data.data[:, [feature1_index, feature2_index]], wine_data.target)"
   ]
  },
  {
   "cell_type": "code",
   "execution_count": 148,
   "metadata": {},
   "outputs": [
    {
     "data": {
      "text/html": [
       "<iframe id=\"igraph\" scrolling=\"no\" style=\"border:none;\" seamless=\"seamless\" src=\"https://plot.ly/~vlandeau/58.embed\" height=\"525px\" width=\"100%\"></iframe>"
      ],
      "text/plain": [
       "<plotly.tools.PlotlyDisplay object>"
      ]
     },
     "execution_count": 148,
     "metadata": {},
     "output_type": "execute_result"
    }
   ],
   "source": [
    "feature1_index = 6\n",
    "feature2_index = 0\n",
    "\n",
    "x_min, x_max = wine_data.data[:, feature1_index].min() - 1, wine_data.data[:, feature1_index].max() + 1\n",
    "y_min, y_max = wine_data.data[:, feature2_index].min() - 1, wine_data.data[:, feature2_index].max() + 1\n",
    "xx, yy = np.meshgrid(np.arange(x_min, x_max, 0.1),\n",
    "                     np.arange(y_min, y_max, 0.1))\n",
    "y_ = np.arange(y_min, y_max, 0.1)\n",
    "z = tree.predict(np.c_[xx.ravel(), yy.ravel()]).reshape(xx.shape)\n",
    "\n",
    "trace0 = go.Scatter(\n",
    "    x = wine_data.data[wine_data.target == 0, feature1_index],\n",
    "    y = wine_data.data[wine_data.target == 0, feature2_index],\n",
    "    name = 'Type 0',\n",
    "    mode = 'markers',\n",
    "    marker = dict(\n",
    "        size = 10,\n",
    "        color = 'rgba(0, 0, 152, .8)',\n",
    "        line = dict(\n",
    "            width = 2,\n",
    "            color = 'rgb(0, 0, 0)'\n",
    "        )\n",
    "    )\n",
    ")\n",
    "\n",
    "trace1 = go.Scatter(\n",
    "    x = wine_data.data[wine_data.target == 1, feature1_index],\n",
    "    y = wine_data.data[wine_data.target == 1, feature2_index],\n",
    "    name = 'Type 1',\n",
    "    mode = 'markers',\n",
    "    marker = dict(\n",
    "        size = 10,\n",
    "        color = 'rgba(0, 152, 0, .8)',\n",
    "        line = dict(\n",
    "            width = 2,\n",
    "            color = 'rgb(0, 0, 0)'\n",
    "        )\n",
    "    )\n",
    ")\n",
    "\n",
    "trace2 = go.Scatter(\n",
    "    x = wine_data.data[wine_data.target == 2, feature1_index],\n",
    "    y = wine_data.data[wine_data.target == 2, feature2_index],\n",
    "    name = 'Type 2',\n",
    "    mode = 'markers',\n",
    "    marker = dict(\n",
    "        size = 10,\n",
    "        color = 'rgba(152, 0, 0, .8)',\n",
    "        line = dict(\n",
    "            width = 2,\n",
    "            color = 'rgb(0, 0, 0)'\n",
    "        )\n",
    "    )\n",
    ")\n",
    "\n",
    "contour = go.Contour(\n",
    "    x=xx[0], y=y_, \n",
    "    z=z,\n",
    "    colorscale=[[0, 'blue'],\n",
    "                [1, 'green'],\n",
    "                [2, 'red']\n",
    "               ],\n",
    "    opacity=0.5,\n",
    "    showscale=False\n",
    ")\n",
    "\n",
    "trace_unknowns = go.Scatter(\n",
    "    x = [3.5, 2.4],\n",
    "    y = [12.1, 13.2],\n",
    "    name = \"Inconnus\",\n",
    "    mode = \"markers\",\n",
    "    marker = dict(\n",
    "        size = 10,\n",
    "        color = 'rgba(0, 0, 0, 0.15)',\n",
    "        line = dict(width = 2,)\n",
    "    )\n",
    ")\n",
    "\n",
    "data = [trace0, trace1, trace2, contour, trace_unknowns]\n",
    "\n",
    "\n",
    "layout = dict(title = 'Vins',\n",
    "              xaxis = dict(title = wine_data.feature_names[feature1_index]),\n",
    "              yaxis = dict(title = wine_data.feature_names[feature2_index])\n",
    "             )\n",
    "\n",
    "py.iplot({\"data\": data, \"layout\": layout}, filename='basic-scatter')"
   ]
  },
  {
   "cell_type": "code",
   "execution_count": 141,
   "metadata": {},
   "outputs": [],
   "source": [
    "dot_data_tree = export_graphviz(tree, out_file=\"complex_model.dot\", \n",
    "                         feature_names=[wine_data.feature_names[feature1_index],wine_data.feature_names[feature2_index]],  \n",
    "                         filled=True, rounded=True,  \n",
    "                         special_characters=True) \n"
   ]
  },
  {
   "cell_type": "code",
   "execution_count": 160,
   "metadata": {},
   "outputs": [],
   "source": [
    "x_train, x_validation, y_train, y_validation = train_test_split(wine_data.data[:, [feature1_index, feature2_index]], \n",
    "                                                    wine_data.target, test_size=0.2)"
   ]
  },
  {
   "cell_type": "code",
   "execution_count": 159,
   "metadata": {},
   "outputs": [
    {
     "name": "stdout",
     "output_type": "stream",
     "text": [
      "(142, 2) (36, 2)\n"
     ]
    }
   ],
   "source": [
    "print(x_train.shape, x_validation.shape)"
   ]
  },
  {
   "cell_type": "code",
   "execution_count": 178,
   "metadata": {},
   "outputs": [],
   "source": [
    "def get_score_validation(max_depth):\n",
    "    tree = DecisionTreeClassifier(max_depth=max_depth)\n",
    "    tree.fit(x_train, y_train)\n",
    "    return tree.score(x_validation, y_validation)"
   ]
  },
  {
   "cell_type": "code",
   "execution_count": 179,
   "metadata": {},
   "outputs": [],
   "source": [
    "scores_validation = list(map(get_score_validation, range(1, 15)))"
   ]
  },
  {
   "cell_type": "code",
   "execution_count": 180,
   "metadata": {},
   "outputs": [
    {
     "data": {
      "text/plain": [
       "[0.5833333333333334,\n",
       " 0.8888888888888888,\n",
       " 0.8611111111111112,\n",
       " 0.9166666666666666,\n",
       " 0.8888888888888888,\n",
       " 0.8888888888888888,\n",
       " 0.8611111111111112,\n",
       " 0.8611111111111112,\n",
       " 0.8888888888888888,\n",
       " 0.8611111111111112,\n",
       " 0.8611111111111112,\n",
       " 0.8611111111111112,\n",
       " 0.8888888888888888,\n",
       " 0.8611111111111112]"
      ]
     },
     "execution_count": 180,
     "metadata": {},
     "output_type": "execute_result"
    }
   ],
   "source": [
    "scores_validation"
   ]
  },
  {
   "cell_type": "code",
   "execution_count": 181,
   "metadata": {
    "collapsed": true
   },
   "outputs": [],
   "source": [
    "def get_score_training(max_depth):\n",
    "    tree = DecisionTreeClassifier(max_depth=max_depth)\n",
    "    tree.fit(x_train, y_train)\n",
    "    return tree.score(x_train, y_train)"
   ]
  },
  {
   "cell_type": "code",
   "execution_count": 182,
   "metadata": {
    "collapsed": true
   },
   "outputs": [],
   "source": [
    "scores_training = list(map(get_score_training, range(1, 15)))"
   ]
  },
  {
   "cell_type": "code",
   "execution_count": 183,
   "metadata": {},
   "outputs": [
    {
     "data": {
      "text/plain": [
       "[0.704225352112676,\n",
       " 0.9436619718309859,\n",
       " 0.9647887323943662,\n",
       " 0.9788732394366197,\n",
       " 0.9788732394366197,\n",
       " 0.9929577464788732,\n",
       " 0.9929577464788732,\n",
       " 1.0,\n",
       " 1.0,\n",
       " 1.0,\n",
       " 1.0,\n",
       " 1.0,\n",
       " 1.0,\n",
       " 1.0]"
      ]
     },
     "execution_count": 183,
     "metadata": {},
     "output_type": "execute_result"
    }
   ],
   "source": [
    "scores_training"
   ]
  },
  {
   "cell_type": "code",
   "execution_count": 188,
   "metadata": {},
   "outputs": [
    {
     "data": {
      "text/html": [
       "<iframe id=\"igraph\" scrolling=\"no\" style=\"border:none;\" seamless=\"seamless\" src=\"https://plot.ly/~vlandeau/74.embed\" height=\"525px\" width=\"100%\"></iframe>"
      ],
      "text/plain": [
       "<plotly.tools.PlotlyDisplay object>"
      ]
     },
     "execution_count": 188,
     "metadata": {},
     "output_type": "execute_result"
    }
   ],
   "source": [
    "feature1_index = 2\n",
    "\n",
    "trace0 = go.Scatter(\n",
    "    x = list(range(1, 15)),\n",
    "    y = scores_training,\n",
    "    mode = 'line',\n",
    "    name = 'scores d\\'entrainement',\n",
    "    marker = dict(\n",
    "        size = 10,\n",
    "        line = dict(\n",
    "            width = 2,\n",
    "            color = 'red'\n",
    "        )\n",
    "    )\n",
    ")\n",
    "\n",
    "trace1 = go.Scatter(\n",
    "    x = list(range(1, 15)),\n",
    "    y = scores_validation,\n",
    "    mode = 'line',\n",
    "    name = 'scores de validation',\n",
    "    marker = dict(\n",
    "        size = 10,\n",
    "        line = dict(\n",
    "            width = 2,\n",
    "            color = 'blue'\n",
    "        )\n",
    "    )\n",
    ")\n",
    "\n",
    "data = [trace0, trace1]\n",
    "\n",
    "\n",
    "layout = dict(title = 'Scores sur les ensembles d\\'entrainement et de validation',\n",
    "              xaxis = dict(title = 'Profondeur maximale'),\n",
    "              yaxis = dict(title = \"Score\")\n",
    "             )\n",
    "\n",
    "py.iplot({\"data\": data, \"layout\": layout})"
   ]
  },
  {
   "cell_type": "code",
   "execution_count": 200,
   "metadata": {},
   "outputs": [
    {
     "data": {
      "text/plain": [
       "DecisionTreeClassifier(class_weight=None, criterion='gini', max_depth=4,\n",
       "            max_features=None, max_leaf_nodes=None,\n",
       "            min_impurity_decrease=0.0, min_impurity_split=None,\n",
       "            min_samples_leaf=1, min_samples_split=2,\n",
       "            min_weight_fraction_leaf=0.0, presort=False, random_state=None,\n",
       "            splitter='best')"
      ]
     },
     "execution_count": 200,
     "metadata": {},
     "output_type": "execute_result"
    }
   ],
   "source": [
    "optimal_tree = DecisionTreeClassifier(max_depth=4)\n",
    "optimal_tree.fit(wine_data.data[:, [feature1_index, feature2_index]], wine_data.target)"
   ]
  },
  {
   "cell_type": "code",
   "execution_count": 204,
   "metadata": {},
   "outputs": [
    {
     "data": {
      "image/svg+xml": [
       "<?xml version=\"1.0\" encoding=\"UTF-8\" standalone=\"no\"?>\n",
       "<!DOCTYPE svg PUBLIC \"-//W3C//DTD SVG 1.1//EN\"\n",
       " \"http://www.w3.org/Graphics/SVG/1.1/DTD/svg11.dtd\">\n",
       "<!-- Generated by graphviz version 2.38.0 (20140413.2041)\n",
       " -->\n",
       "<!-- Title: Tree Pages: 1 -->\n",
       "<svg width=\"1202pt\" height=\"477pt\"\n",
       " viewBox=\"0.00 0.00 1201.50 477.00\" xmlns=\"http://www.w3.org/2000/svg\" xmlns:xlink=\"http://www.w3.org/1999/xlink\">\n",
       "<g id=\"graph0\" class=\"graph\" transform=\"scale(1 1) rotate(0) translate(4 473)\">\n",
       "<title>Tree</title>\n",
       "<polygon fill=\"white\" stroke=\"none\" points=\"-4,4 -4,-473 1197.5,-473 1197.5,4 -4,4\"/>\n",
       "<!-- 0 -->\n",
       "<g id=\"node1\" class=\"node\"><title>0</title>\n",
       "<path fill=\"#39e581\" fill-opacity=\"0.101961\" stroke=\"black\" d=\"M614,-469C614,-469 506,-469 506,-469 500,-469 494,-463 494,-457 494,-457 494,-413 494,-413 494,-407 500,-401 506,-401 506,-401 614,-401 614,-401 620,-401 626,-407 626,-413 626,-413 626,-457 626,-457 626,-463 620,-469 614,-469\"/>\n",
       "<text text-anchor=\"start\" x=\"513.5\" y=\"-453.8\" font-family=\"Helvetica,sans-Serif\" font-size=\"14.00\">alcohol ≤ 12.78</text>\n",
       "<text text-anchor=\"start\" x=\"524.5\" y=\"-438.8\" font-family=\"Helvetica,sans-Serif\" font-size=\"14.00\">gini = 0.658</text>\n",
       "<text text-anchor=\"start\" x=\"515\" y=\"-423.8\" font-family=\"Helvetica,sans-Serif\" font-size=\"14.00\">samples = 178</text>\n",
       "<text text-anchor=\"start\" x=\"502\" y=\"-408.8\" font-family=\"Helvetica,sans-Serif\" font-size=\"14.00\">value = [59, 71, 48]</text>\n",
       "</g>\n",
       "<!-- 1 -->\n",
       "<g id=\"node2\" class=\"node\"><title>1</title>\n",
       "<path fill=\"#39e581\" fill-opacity=\"0.823529\" stroke=\"black\" d=\"M508.5,-365C508.5,-365 405.5,-365 405.5,-365 399.5,-365 393.5,-359 393.5,-353 393.5,-353 393.5,-309 393.5,-309 393.5,-303 399.5,-297 405.5,-297 405.5,-297 508.5,-297 508.5,-297 514.5,-297 520.5,-303 520.5,-309 520.5,-309 520.5,-353 520.5,-353 520.5,-359 514.5,-365 508.5,-365\"/>\n",
       "<text text-anchor=\"start\" x=\"401.5\" y=\"-349.8\" font-family=\"Helvetica,sans-Serif\" font-size=\"14.00\">flavanoids ≤ 0.955</text>\n",
       "<text text-anchor=\"start\" x=\"421.5\" y=\"-334.8\" font-family=\"Helvetica,sans-Serif\" font-size=\"14.00\">gini = 0.256</text>\n",
       "<text text-anchor=\"start\" x=\"416\" y=\"-319.8\" font-family=\"Helvetica,sans-Serif\" font-size=\"14.00\">samples = 73</text>\n",
       "<text text-anchor=\"start\" x=\"402.5\" y=\"-304.8\" font-family=\"Helvetica,sans-Serif\" font-size=\"14.00\">value = [0, 62, 11]</text>\n",
       "</g>\n",
       "<!-- 0&#45;&gt;1 -->\n",
       "<g id=\"edge1\" class=\"edge\"><title>0&#45;&gt;1</title>\n",
       "<path fill=\"none\" stroke=\"black\" d=\"M526.559,-400.884C517.384,-391.798 507.334,-381.845 497.796,-372.4\"/>\n",
       "<polygon fill=\"black\" stroke=\"black\" points=\"500.194,-369.849 490.626,-365.299 495.269,-374.823 500.194,-369.849\"/>\n",
       "<text text-anchor=\"middle\" x=\"490.748\" y=\"-386.599\" font-family=\"Helvetica,sans-Serif\" font-size=\"14.00\">True</text>\n",
       "</g>\n",
       "<!-- 12 -->\n",
       "<g id=\"node13\" class=\"node\"><title>12</title>\n",
       "<path fill=\"#e58139\" fill-opacity=\"0.321569\" stroke=\"black\" d=\"M714.5,-365C714.5,-365 613.5,-365 613.5,-365 607.5,-365 601.5,-359 601.5,-353 601.5,-353 601.5,-309 601.5,-309 601.5,-303 607.5,-297 613.5,-297 613.5,-297 714.5,-297 714.5,-297 720.5,-297 726.5,-303 726.5,-309 726.5,-309 726.5,-353 726.5,-353 726.5,-359 720.5,-365 714.5,-365\"/>\n",
       "<text text-anchor=\"start\" x=\"612.5\" y=\"-349.8\" font-family=\"Helvetica,sans-Serif\" font-size=\"14.00\">flavanoids ≤ 1.58</text>\n",
       "<text text-anchor=\"start\" x=\"628.5\" y=\"-334.8\" font-family=\"Helvetica,sans-Serif\" font-size=\"14.00\">gini = 0.553</text>\n",
       "<text text-anchor=\"start\" x=\"619\" y=\"-319.8\" font-family=\"Helvetica,sans-Serif\" font-size=\"14.00\">samples = 105</text>\n",
       "<text text-anchor=\"start\" x=\"609.5\" y=\"-304.8\" font-family=\"Helvetica,sans-Serif\" font-size=\"14.00\">value = [59, 9, 37]</text>\n",
       "</g>\n",
       "<!-- 0&#45;&gt;12 -->\n",
       "<g id=\"edge12\" class=\"edge\"><title>0&#45;&gt;12</title>\n",
       "<path fill=\"none\" stroke=\"black\" d=\"M593.766,-400.884C603.029,-391.798 613.177,-381.845 622.807,-372.4\"/>\n",
       "<polygon fill=\"black\" stroke=\"black\" points=\"625.359,-374.8 630.048,-365.299 620.458,-369.803 625.359,-374.8\"/>\n",
       "<text text-anchor=\"middle\" x=\"629.805\" y=\"-386.598\" font-family=\"Helvetica,sans-Serif\" font-size=\"14.00\">False</text>\n",
       "</g>\n",
       "<!-- 2 -->\n",
       "<g id=\"node3\" class=\"node\"><title>2</title>\n",
       "<path fill=\"#8139e5\" fill-opacity=\"0.901961\" stroke=\"black\" d=\"M299.5,-261C299.5,-261 196.5,-261 196.5,-261 190.5,-261 184.5,-255 184.5,-249 184.5,-249 184.5,-205 184.5,-205 184.5,-199 190.5,-193 196.5,-193 196.5,-193 299.5,-193 299.5,-193 305.5,-193 311.5,-199 311.5,-205 311.5,-205 311.5,-249 311.5,-249 311.5,-255 305.5,-261 299.5,-261\"/>\n",
       "<text text-anchor=\"start\" x=\"192.5\" y=\"-245.8\" font-family=\"Helvetica,sans-Serif\" font-size=\"14.00\">flavanoids ≤ 0.575</text>\n",
       "<text text-anchor=\"start\" x=\"212.5\" y=\"-230.8\" font-family=\"Helvetica,sans-Serif\" font-size=\"14.00\">gini = 0.165</text>\n",
       "<text text-anchor=\"start\" x=\"207\" y=\"-215.8\" font-family=\"Helvetica,sans-Serif\" font-size=\"14.00\">samples = 11</text>\n",
       "<text text-anchor=\"start\" x=\"197.5\" y=\"-200.8\" font-family=\"Helvetica,sans-Serif\" font-size=\"14.00\">value = [0, 1, 10]</text>\n",
       "</g>\n",
       "<!-- 1&#45;&gt;2 -->\n",
       "<g id=\"edge2\" class=\"edge\"><title>1&#45;&gt;2</title>\n",
       "<path fill=\"none\" stroke=\"black\" d=\"M393.442,-298.981C370.541,-287.805 344.524,-275.108 320.889,-263.573\"/>\n",
       "<polygon fill=\"black\" stroke=\"black\" points=\"322.138,-260.288 311.616,-259.047 319.068,-266.578 322.138,-260.288\"/>\n",
       "</g>\n",
       "<!-- 7 -->\n",
       "<g id=\"node8\" class=\"node\"><title>7</title>\n",
       "<path fill=\"#39e581\" fill-opacity=\"0.984314\" stroke=\"black\" d=\"M508.5,-261C508.5,-261 405.5,-261 405.5,-261 399.5,-261 393.5,-255 393.5,-249 393.5,-249 393.5,-205 393.5,-205 393.5,-199 399.5,-193 405.5,-193 405.5,-193 508.5,-193 508.5,-193 514.5,-193 520.5,-199 520.5,-205 520.5,-205 520.5,-249 520.5,-249 520.5,-255 514.5,-261 508.5,-261\"/>\n",
       "<text text-anchor=\"start\" x=\"401.5\" y=\"-245.8\" font-family=\"Helvetica,sans-Serif\" font-size=\"14.00\">flavanoids ≤ 1.225</text>\n",
       "<text text-anchor=\"start\" x=\"421.5\" y=\"-230.8\" font-family=\"Helvetica,sans-Serif\" font-size=\"14.00\">gini = 0.032</text>\n",
       "<text text-anchor=\"start\" x=\"416\" y=\"-215.8\" font-family=\"Helvetica,sans-Serif\" font-size=\"14.00\">samples = 62</text>\n",
       "<text text-anchor=\"start\" x=\"406.5\" y=\"-200.8\" font-family=\"Helvetica,sans-Serif\" font-size=\"14.00\">value = [0, 61, 1]</text>\n",
       "</g>\n",
       "<!-- 1&#45;&gt;7 -->\n",
       "<g id=\"edge7\" class=\"edge\"><title>1&#45;&gt;7</title>\n",
       "<path fill=\"none\" stroke=\"black\" d=\"M457,-296.884C457,-288.778 457,-279.982 457,-271.472\"/>\n",
       "<polygon fill=\"black\" stroke=\"black\" points=\"460.5,-271.299 457,-261.299 453.5,-271.299 460.5,-271.299\"/>\n",
       "</g>\n",
       "<!-- 3 -->\n",
       "<g id=\"node4\" class=\"node\"><title>3</title>\n",
       "<path fill=\"#8139e5\" fill-opacity=\"0.666667\" stroke=\"black\" d=\"M162.5,-157C162.5,-157 67.5,-157 67.5,-157 61.5,-157 55.5,-151 55.5,-145 55.5,-145 55.5,-101 55.5,-101 55.5,-95 61.5,-89 67.5,-89 67.5,-89 162.5,-89 162.5,-89 168.5,-89 174.5,-95 174.5,-101 174.5,-101 174.5,-145 174.5,-145 174.5,-151 168.5,-157 162.5,-157\"/>\n",
       "<text text-anchor=\"start\" x=\"63.5\" y=\"-141.8\" font-family=\"Helvetica,sans-Serif\" font-size=\"14.00\">flavanoids ≤ 0.54</text>\n",
       "<text text-anchor=\"start\" x=\"79.5\" y=\"-126.8\" font-family=\"Helvetica,sans-Serif\" font-size=\"14.00\">gini = 0.375</text>\n",
       "<text text-anchor=\"start\" x=\"77.5\" y=\"-111.8\" font-family=\"Helvetica,sans-Serif\" font-size=\"14.00\">samples = 4</text>\n",
       "<text text-anchor=\"start\" x=\"68\" y=\"-96.8\" font-family=\"Helvetica,sans-Serif\" font-size=\"14.00\">value = [0, 1, 3]</text>\n",
       "</g>\n",
       "<!-- 2&#45;&gt;3 -->\n",
       "<g id=\"edge3\" class=\"edge\"><title>2&#45;&gt;3</title>\n",
       "<path fill=\"none\" stroke=\"black\" d=\"M204.819,-192.884C192.623,-183.531 179.23,-173.259 166.594,-163.568\"/>\n",
       "<polygon fill=\"black\" stroke=\"black\" points=\"168.485,-160.608 158.42,-157.299 164.225,-166.162 168.485,-160.608\"/>\n",
       "</g>\n",
       "<!-- 6 -->\n",
       "<g id=\"node7\" class=\"node\"><title>6</title>\n",
       "<path fill=\"#8139e5\" stroke=\"black\" d=\"M291,-149.5C291,-149.5 205,-149.5 205,-149.5 199,-149.5 193,-143.5 193,-137.5 193,-137.5 193,-108.5 193,-108.5 193,-102.5 199,-96.5 205,-96.5 205,-96.5 291,-96.5 291,-96.5 297,-96.5 303,-102.5 303,-108.5 303,-108.5 303,-137.5 303,-137.5 303,-143.5 297,-149.5 291,-149.5\"/>\n",
       "<text text-anchor=\"start\" x=\"220\" y=\"-134.3\" font-family=\"Helvetica,sans-Serif\" font-size=\"14.00\">gini = 0.0</text>\n",
       "<text text-anchor=\"start\" x=\"210.5\" y=\"-119.3\" font-family=\"Helvetica,sans-Serif\" font-size=\"14.00\">samples = 7</text>\n",
       "<text text-anchor=\"start\" x=\"201\" y=\"-104.3\" font-family=\"Helvetica,sans-Serif\" font-size=\"14.00\">value = [0, 0, 7]</text>\n",
       "</g>\n",
       "<!-- 2&#45;&gt;6 -->\n",
       "<g id=\"edge6\" class=\"edge\"><title>2&#45;&gt;6</title>\n",
       "<path fill=\"none\" stroke=\"black\" d=\"M248,-192.884C248,-182.326 248,-170.597 248,-159.854\"/>\n",
       "<polygon fill=\"black\" stroke=\"black\" points=\"251.5,-159.52 248,-149.52 244.5,-159.52 251.5,-159.52\"/>\n",
       "</g>\n",
       "<!-- 4 -->\n",
       "<g id=\"node5\" class=\"node\"><title>4</title>\n",
       "<path fill=\"#8139e5\" stroke=\"black\" d=\"M98,-53C98,-53 12,-53 12,-53 6,-53 0,-47 0,-41 0,-41 0,-12 0,-12 0,-6 6,-0 12,-0 12,-0 98,-0 98,-0 104,-0 110,-6 110,-12 110,-12 110,-41 110,-41 110,-47 104,-53 98,-53\"/>\n",
       "<text text-anchor=\"start\" x=\"27\" y=\"-37.8\" font-family=\"Helvetica,sans-Serif\" font-size=\"14.00\">gini = 0.0</text>\n",
       "<text text-anchor=\"start\" x=\"17.5\" y=\"-22.8\" font-family=\"Helvetica,sans-Serif\" font-size=\"14.00\">samples = 3</text>\n",
       "<text text-anchor=\"start\" x=\"8\" y=\"-7.8\" font-family=\"Helvetica,sans-Serif\" font-size=\"14.00\">value = [0, 0, 3]</text>\n",
       "</g>\n",
       "<!-- 3&#45;&gt;4 -->\n",
       "<g id=\"edge4\" class=\"edge\"><title>3&#45;&gt;4</title>\n",
       "<path fill=\"none\" stroke=\"black\" d=\"M94.0149,-88.9485C88.439,-80.1664 82.405,-70.6629 76.7873,-61.815\"/>\n",
       "<polygon fill=\"black\" stroke=\"black\" points=\"79.6556,-59.8028 71.3408,-53.2367 73.7461,-63.5549 79.6556,-59.8028\"/>\n",
       "</g>\n",
       "<!-- 5 -->\n",
       "<g id=\"node6\" class=\"node\"><title>5</title>\n",
       "<path fill=\"#39e581\" stroke=\"black\" d=\"M226,-53C226,-53 140,-53 140,-53 134,-53 128,-47 128,-41 128,-41 128,-12 128,-12 128,-6 134,-0 140,-0 140,-0 226,-0 226,-0 232,-0 238,-6 238,-12 238,-12 238,-41 238,-41 238,-47 232,-53 226,-53\"/>\n",
       "<text text-anchor=\"start\" x=\"155\" y=\"-37.8\" font-family=\"Helvetica,sans-Serif\" font-size=\"14.00\">gini = 0.0</text>\n",
       "<text text-anchor=\"start\" x=\"145.5\" y=\"-22.8\" font-family=\"Helvetica,sans-Serif\" font-size=\"14.00\">samples = 1</text>\n",
       "<text text-anchor=\"start\" x=\"136\" y=\"-7.8\" font-family=\"Helvetica,sans-Serif\" font-size=\"14.00\">value = [0, 1, 0]</text>\n",
       "</g>\n",
       "<!-- 3&#45;&gt;5 -->\n",
       "<g id=\"edge5\" class=\"edge\"><title>3&#45;&gt;5</title>\n",
       "<path fill=\"none\" stroke=\"black\" d=\"M138.783,-88.9485C145.168,-80.0749 152.084,-70.4648 158.507,-61.5388\"/>\n",
       "<polygon fill=\"black\" stroke=\"black\" points=\"161.481,-63.398 164.48,-53.2367 155.799,-59.3094 161.481,-63.398\"/>\n",
       "</g>\n",
       "<!-- 8 -->\n",
       "<g id=\"node9\" class=\"node\"><title>8</title>\n",
       "<path fill=\"#39e581\" fill-opacity=\"0.666667\" stroke=\"black\" d=\"M436.5,-157C436.5,-157 333.5,-157 333.5,-157 327.5,-157 321.5,-151 321.5,-145 321.5,-145 321.5,-101 321.5,-101 321.5,-95 327.5,-89 333.5,-89 333.5,-89 436.5,-89 436.5,-89 442.5,-89 448.5,-95 448.5,-101 448.5,-101 448.5,-145 448.5,-145 448.5,-151 442.5,-157 436.5,-157\"/>\n",
       "<text text-anchor=\"start\" x=\"329.5\" y=\"-141.8\" font-family=\"Helvetica,sans-Serif\" font-size=\"14.00\">flavanoids ≤ 1.145</text>\n",
       "<text text-anchor=\"start\" x=\"349.5\" y=\"-126.8\" font-family=\"Helvetica,sans-Serif\" font-size=\"14.00\">gini = 0.375</text>\n",
       "<text text-anchor=\"start\" x=\"347.5\" y=\"-111.8\" font-family=\"Helvetica,sans-Serif\" font-size=\"14.00\">samples = 4</text>\n",
       "<text text-anchor=\"start\" x=\"338\" y=\"-96.8\" font-family=\"Helvetica,sans-Serif\" font-size=\"14.00\">value = [0, 3, 1]</text>\n",
       "</g>\n",
       "<!-- 7&#45;&gt;8 -->\n",
       "<g id=\"edge8\" class=\"edge\"><title>7&#45;&gt;8</title>\n",
       "<path fill=\"none\" stroke=\"black\" d=\"M433.624,-192.884C427.462,-184.154 420.735,-174.625 414.304,-165.514\"/>\n",
       "<polygon fill=\"black\" stroke=\"black\" points=\"417.132,-163.451 408.505,-157.299 411.413,-167.487 417.132,-163.451\"/>\n",
       "</g>\n",
       "<!-- 11 -->\n",
       "<g id=\"node12\" class=\"node\"><title>11</title>\n",
       "<path fill=\"#39e581\" stroke=\"black\" d=\"M571.5,-149.5C571.5,-149.5 478.5,-149.5 478.5,-149.5 472.5,-149.5 466.5,-143.5 466.5,-137.5 466.5,-137.5 466.5,-108.5 466.5,-108.5 466.5,-102.5 472.5,-96.5 478.5,-96.5 478.5,-96.5 571.5,-96.5 571.5,-96.5 577.5,-96.5 583.5,-102.5 583.5,-108.5 583.5,-108.5 583.5,-137.5 583.5,-137.5 583.5,-143.5 577.5,-149.5 571.5,-149.5\"/>\n",
       "<text text-anchor=\"start\" x=\"497\" y=\"-134.3\" font-family=\"Helvetica,sans-Serif\" font-size=\"14.00\">gini = 0.0</text>\n",
       "<text text-anchor=\"start\" x=\"484\" y=\"-119.3\" font-family=\"Helvetica,sans-Serif\" font-size=\"14.00\">samples = 58</text>\n",
       "<text text-anchor=\"start\" x=\"474.5\" y=\"-104.3\" font-family=\"Helvetica,sans-Serif\" font-size=\"14.00\">value = [0, 58, 0]</text>\n",
       "</g>\n",
       "<!-- 7&#45;&gt;11 -->\n",
       "<g id=\"edge11\" class=\"edge\"><title>7&#45;&gt;11</title>\n",
       "<path fill=\"none\" stroke=\"black\" d=\"M479.078,-192.884C486.556,-181.666 494.916,-169.126 502.432,-157.852\"/>\n",
       "<polygon fill=\"black\" stroke=\"black\" points=\"505.352,-159.782 507.987,-149.52 499.527,-155.899 505.352,-159.782\"/>\n",
       "</g>\n",
       "<!-- 9 -->\n",
       "<g id=\"node10\" class=\"node\"><title>9</title>\n",
       "<path fill=\"#39e581\" stroke=\"black\" d=\"M361,-53C361,-53 275,-53 275,-53 269,-53 263,-47 263,-41 263,-41 263,-12 263,-12 263,-6 269,-0 275,-0 275,-0 361,-0 361,-0 367,-0 373,-6 373,-12 373,-12 373,-41 373,-41 373,-47 367,-53 361,-53\"/>\n",
       "<text text-anchor=\"start\" x=\"290\" y=\"-37.8\" font-family=\"Helvetica,sans-Serif\" font-size=\"14.00\">gini = 0.0</text>\n",
       "<text text-anchor=\"start\" x=\"280.5\" y=\"-22.8\" font-family=\"Helvetica,sans-Serif\" font-size=\"14.00\">samples = 3</text>\n",
       "<text text-anchor=\"start\" x=\"271\" y=\"-7.8\" font-family=\"Helvetica,sans-Serif\" font-size=\"14.00\">value = [0, 3, 0]</text>\n",
       "</g>\n",
       "<!-- 8&#45;&gt;9 -->\n",
       "<g id=\"edge9\" class=\"edge\"><title>8&#45;&gt;9</title>\n",
       "<path fill=\"none\" stroke=\"black\" d=\"M361.567,-88.9485C355.275,-80.0749 348.462,-70.4648 342.133,-61.5388\"/>\n",
       "<polygon fill=\"black\" stroke=\"black\" points=\"344.886,-59.3701 336.247,-53.2367 339.176,-63.4188 344.886,-59.3701\"/>\n",
       "</g>\n",
       "<!-- 10 -->\n",
       "<g id=\"node11\" class=\"node\"><title>10</title>\n",
       "<path fill=\"#8139e5\" stroke=\"black\" d=\"M489,-53C489,-53 403,-53 403,-53 397,-53 391,-47 391,-41 391,-41 391,-12 391,-12 391,-6 397,-0 403,-0 403,-0 489,-0 489,-0 495,-0 501,-6 501,-12 501,-12 501,-41 501,-41 501,-47 495,-53 489,-53\"/>\n",
       "<text text-anchor=\"start\" x=\"418\" y=\"-37.8\" font-family=\"Helvetica,sans-Serif\" font-size=\"14.00\">gini = 0.0</text>\n",
       "<text text-anchor=\"start\" x=\"408.5\" y=\"-22.8\" font-family=\"Helvetica,sans-Serif\" font-size=\"14.00\">samples = 1</text>\n",
       "<text text-anchor=\"start\" x=\"399\" y=\"-7.8\" font-family=\"Helvetica,sans-Serif\" font-size=\"14.00\">value = [0, 0, 1]</text>\n",
       "</g>\n",
       "<!-- 8&#45;&gt;10 -->\n",
       "<g id=\"edge10\" class=\"edge\"><title>8&#45;&gt;10</title>\n",
       "<path fill=\"none\" stroke=\"black\" d=\"M406.335,-88.9485C412.004,-80.1664 418.138,-70.6629 423.85,-61.815\"/>\n",
       "<polygon fill=\"black\" stroke=\"black\" points=\"426.904,-63.5365 429.387,-53.2367 421.023,-59.7402 426.904,-63.5365\"/>\n",
       "</g>\n",
       "<!-- 13 -->\n",
       "<g id=\"node14\" class=\"node\"><title>13</title>\n",
       "<path fill=\"#8139e5\" fill-opacity=\"0.972549\" stroke=\"black\" d=\"M711.5,-261C711.5,-261 616.5,-261 616.5,-261 610.5,-261 604.5,-255 604.5,-249 604.5,-249 604.5,-205 604.5,-205 604.5,-199 610.5,-193 616.5,-193 616.5,-193 711.5,-193 711.5,-193 717.5,-193 723.5,-199 723.5,-205 723.5,-205 723.5,-249 723.5,-249 723.5,-255 717.5,-261 711.5,-261\"/>\n",
       "<text text-anchor=\"start\" x=\"612.5\" y=\"-245.8\" font-family=\"Helvetica,sans-Serif\" font-size=\"14.00\">flavanoids ≤ 1.29</text>\n",
       "<text text-anchor=\"start\" x=\"628.5\" y=\"-230.8\" font-family=\"Helvetica,sans-Serif\" font-size=\"14.00\">gini = 0.051</text>\n",
       "<text text-anchor=\"start\" x=\"623\" y=\"-215.8\" font-family=\"Helvetica,sans-Serif\" font-size=\"14.00\">samples = 38</text>\n",
       "<text text-anchor=\"start\" x=\"613.5\" y=\"-200.8\" font-family=\"Helvetica,sans-Serif\" font-size=\"14.00\">value = [0, 1, 37]</text>\n",
       "</g>\n",
       "<!-- 12&#45;&gt;13 -->\n",
       "<g id=\"edge13\" class=\"edge\"><title>12&#45;&gt;13</title>\n",
       "<path fill=\"none\" stroke=\"black\" d=\"M664,-296.884C664,-288.778 664,-279.982 664,-271.472\"/>\n",
       "<polygon fill=\"black\" stroke=\"black\" points=\"667.5,-271.299 664,-261.299 660.5,-271.299 667.5,-271.299\"/>\n",
       "</g>\n",
       "<!-- 18 -->\n",
       "<g id=\"node19\" class=\"node\"><title>18</title>\n",
       "<path fill=\"#e58139\" fill-opacity=\"0.862745\" stroke=\"black\" d=\"M984.5,-261C984.5,-261 889.5,-261 889.5,-261 883.5,-261 877.5,-255 877.5,-249 877.5,-249 877.5,-205 877.5,-205 877.5,-199 883.5,-193 889.5,-193 889.5,-193 984.5,-193 984.5,-193 990.5,-193 996.5,-199 996.5,-205 996.5,-205 996.5,-249 996.5,-249 996.5,-255 990.5,-261 984.5,-261\"/>\n",
       "<text text-anchor=\"start\" x=\"885.5\" y=\"-245.8\" font-family=\"Helvetica,sans-Serif\" font-size=\"14.00\">flavanoids ≤ 2.11</text>\n",
       "<text text-anchor=\"start\" x=\"905\" y=\"-230.8\" font-family=\"Helvetica,sans-Serif\" font-size=\"14.00\">gini = 0.21</text>\n",
       "<text text-anchor=\"start\" x=\"896\" y=\"-215.8\" font-family=\"Helvetica,sans-Serif\" font-size=\"14.00\">samples = 67</text>\n",
       "<text text-anchor=\"start\" x=\"886.5\" y=\"-200.8\" font-family=\"Helvetica,sans-Serif\" font-size=\"14.00\">value = [59, 8, 0]</text>\n",
       "</g>\n",
       "<!-- 12&#45;&gt;18 -->\n",
       "<g id=\"edge18\" class=\"edge\"><title>12&#45;&gt;18</title>\n",
       "<path fill=\"none\" stroke=\"black\" d=\"M726.632,-306.599C768.781,-290.851 824.377,-270.079 867.829,-253.844\"/>\n",
       "<polygon fill=\"black\" stroke=\"black\" points=\"869.326,-257.021 877.468,-250.243 866.876,-250.464 869.326,-257.021\"/>\n",
       "</g>\n",
       "<!-- 14 -->\n",
       "<g id=\"node15\" class=\"node\"><title>14</title>\n",
       "<path fill=\"#8139e5\" stroke=\"black\" d=\"M706.5,-149.5C706.5,-149.5 613.5,-149.5 613.5,-149.5 607.5,-149.5 601.5,-143.5 601.5,-137.5 601.5,-137.5 601.5,-108.5 601.5,-108.5 601.5,-102.5 607.5,-96.5 613.5,-96.5 613.5,-96.5 706.5,-96.5 706.5,-96.5 712.5,-96.5 718.5,-102.5 718.5,-108.5 718.5,-108.5 718.5,-137.5 718.5,-137.5 718.5,-143.5 712.5,-149.5 706.5,-149.5\"/>\n",
       "<text text-anchor=\"start\" x=\"632\" y=\"-134.3\" font-family=\"Helvetica,sans-Serif\" font-size=\"14.00\">gini = 0.0</text>\n",
       "<text text-anchor=\"start\" x=\"619\" y=\"-119.3\" font-family=\"Helvetica,sans-Serif\" font-size=\"14.00\">samples = 33</text>\n",
       "<text text-anchor=\"start\" x=\"609.5\" y=\"-104.3\" font-family=\"Helvetica,sans-Serif\" font-size=\"14.00\">value = [0, 0, 33]</text>\n",
       "</g>\n",
       "<!-- 13&#45;&gt;14 -->\n",
       "<g id=\"edge14\" class=\"edge\"><title>13&#45;&gt;14</title>\n",
       "<path fill=\"none\" stroke=\"black\" d=\"M662.701,-192.884C662.283,-182.216 661.818,-170.352 661.393,-159.519\"/>\n",
       "<polygon fill=\"black\" stroke=\"black\" points=\"664.89,-159.375 661.001,-149.52 657.895,-159.649 664.89,-159.375\"/>\n",
       "</g>\n",
       "<!-- 15 -->\n",
       "<g id=\"node16\" class=\"node\"><title>15</title>\n",
       "<path fill=\"#8139e5\" fill-opacity=\"0.749020\" stroke=\"black\" d=\"M851.5,-157C851.5,-157 748.5,-157 748.5,-157 742.5,-157 736.5,-151 736.5,-145 736.5,-145 736.5,-101 736.5,-101 736.5,-95 742.5,-89 748.5,-89 748.5,-89 851.5,-89 851.5,-89 857.5,-89 863.5,-95 863.5,-101 863.5,-101 863.5,-145 863.5,-145 863.5,-151 857.5,-157 851.5,-157\"/>\n",
       "<text text-anchor=\"start\" x=\"744.5\" y=\"-141.8\" font-family=\"Helvetica,sans-Serif\" font-size=\"14.00\">flavanoids ≤ 1.305</text>\n",
       "<text text-anchor=\"start\" x=\"768\" y=\"-126.8\" font-family=\"Helvetica,sans-Serif\" font-size=\"14.00\">gini = 0.32</text>\n",
       "<text text-anchor=\"start\" x=\"762.5\" y=\"-111.8\" font-family=\"Helvetica,sans-Serif\" font-size=\"14.00\">samples = 5</text>\n",
       "<text text-anchor=\"start\" x=\"753\" y=\"-96.8\" font-family=\"Helvetica,sans-Serif\" font-size=\"14.00\">value = [0, 1, 4]</text>\n",
       "</g>\n",
       "<!-- 13&#45;&gt;15 -->\n",
       "<g id=\"edge15\" class=\"edge\"><title>13&#45;&gt;15</title>\n",
       "<path fill=\"none\" stroke=\"black\" d=\"M708.155,-192.884C720.626,-183.531 734.321,-173.259 747.242,-163.568\"/>\n",
       "<polygon fill=\"black\" stroke=\"black\" points=\"749.701,-166.099 755.601,-157.299 745.501,-160.499 749.701,-166.099\"/>\n",
       "</g>\n",
       "<!-- 16 -->\n",
       "<g id=\"node17\" class=\"node\"><title>16</title>\n",
       "<path fill=\"#39e581\" stroke=\"black\" d=\"M752,-53C752,-53 666,-53 666,-53 660,-53 654,-47 654,-41 654,-41 654,-12 654,-12 654,-6 660,-0 666,-0 666,-0 752,-0 752,-0 758,-0 764,-6 764,-12 764,-12 764,-41 764,-41 764,-47 758,-53 752,-53\"/>\n",
       "<text text-anchor=\"start\" x=\"681\" y=\"-37.8\" font-family=\"Helvetica,sans-Serif\" font-size=\"14.00\">gini = 0.0</text>\n",
       "<text text-anchor=\"start\" x=\"671.5\" y=\"-22.8\" font-family=\"Helvetica,sans-Serif\" font-size=\"14.00\">samples = 1</text>\n",
       "<text text-anchor=\"start\" x=\"662\" y=\"-7.8\" font-family=\"Helvetica,sans-Serif\" font-size=\"14.00\">value = [0, 1, 0]</text>\n",
       "</g>\n",
       "<!-- 15&#45;&gt;16 -->\n",
       "<g id=\"edge16\" class=\"edge\"><title>15&#45;&gt;16</title>\n",
       "<path fill=\"none\" stroke=\"black\" d=\"M768.173,-88.9485C759.363,-79.8005 749.8,-69.8697 740.982,-60.7126\"/>\n",
       "<polygon fill=\"black\" stroke=\"black\" points=\"743.241,-58.0122 733.783,-53.2367 738.199,-62.8677 743.241,-58.0122\"/>\n",
       "</g>\n",
       "<!-- 17 -->\n",
       "<g id=\"node18\" class=\"node\"><title>17</title>\n",
       "<path fill=\"#8139e5\" stroke=\"black\" d=\"M880,-53C880,-53 794,-53 794,-53 788,-53 782,-47 782,-41 782,-41 782,-12 782,-12 782,-6 788,-0 794,-0 794,-0 880,-0 880,-0 886,-0 892,-6 892,-12 892,-12 892,-41 892,-41 892,-47 886,-53 880,-53\"/>\n",
       "<text text-anchor=\"start\" x=\"809\" y=\"-37.8\" font-family=\"Helvetica,sans-Serif\" font-size=\"14.00\">gini = 0.0</text>\n",
       "<text text-anchor=\"start\" x=\"799.5\" y=\"-22.8\" font-family=\"Helvetica,sans-Serif\" font-size=\"14.00\">samples = 4</text>\n",
       "<text text-anchor=\"start\" x=\"790\" y=\"-7.8\" font-family=\"Helvetica,sans-Serif\" font-size=\"14.00\">value = [0, 0, 4]</text>\n",
       "</g>\n",
       "<!-- 15&#45;&gt;17 -->\n",
       "<g id=\"edge17\" class=\"edge\"><title>15&#45;&gt;17</title>\n",
       "<path fill=\"none\" stroke=\"black\" d=\"M812.941,-88.9485C816.272,-80.4408 819.868,-71.2562 823.239,-62.6464\"/>\n",
       "<polygon fill=\"black\" stroke=\"black\" points=\"826.536,-63.8245 826.923,-53.2367 820.018,-61.2723 826.536,-63.8245\"/>\n",
       "</g>\n",
       "<!-- 19 -->\n",
       "<g id=\"node20\" class=\"node\"><title>19</title>\n",
       "<path fill=\"#39e581\" stroke=\"black\" d=\"M980,-149.5C980,-149.5 894,-149.5 894,-149.5 888,-149.5 882,-143.5 882,-137.5 882,-137.5 882,-108.5 882,-108.5 882,-102.5 888,-96.5 894,-96.5 894,-96.5 980,-96.5 980,-96.5 986,-96.5 992,-102.5 992,-108.5 992,-108.5 992,-137.5 992,-137.5 992,-143.5 986,-149.5 980,-149.5\"/>\n",
       "<text text-anchor=\"start\" x=\"909\" y=\"-134.3\" font-family=\"Helvetica,sans-Serif\" font-size=\"14.00\">gini = 0.0</text>\n",
       "<text text-anchor=\"start\" x=\"899.5\" y=\"-119.3\" font-family=\"Helvetica,sans-Serif\" font-size=\"14.00\">samples = 4</text>\n",
       "<text text-anchor=\"start\" x=\"890\" y=\"-104.3\" font-family=\"Helvetica,sans-Serif\" font-size=\"14.00\">value = [0, 4, 0]</text>\n",
       "</g>\n",
       "<!-- 18&#45;&gt;19 -->\n",
       "<g id=\"edge19\" class=\"edge\"><title>18&#45;&gt;19</title>\n",
       "<path fill=\"none\" stroke=\"black\" d=\"M937,-192.884C937,-182.326 937,-170.597 937,-159.854\"/>\n",
       "<polygon fill=\"black\" stroke=\"black\" points=\"940.5,-159.52 937,-149.52 933.5,-159.52 940.5,-159.52\"/>\n",
       "</g>\n",
       "<!-- 20 -->\n",
       "<g id=\"node21\" class=\"node\"><title>20</title>\n",
       "<path fill=\"#e58139\" fill-opacity=\"0.933333\" stroke=\"black\" d=\"M1115.5,-157C1115.5,-157 1022.5,-157 1022.5,-157 1016.5,-157 1010.5,-151 1010.5,-145 1010.5,-145 1010.5,-101 1010.5,-101 1010.5,-95 1016.5,-89 1022.5,-89 1022.5,-89 1115.5,-89 1115.5,-89 1121.5,-89 1127.5,-95 1127.5,-101 1127.5,-101 1127.5,-145 1127.5,-145 1127.5,-151 1121.5,-157 1115.5,-157\"/>\n",
       "<text text-anchor=\"start\" x=\"1019\" y=\"-141.8\" font-family=\"Helvetica,sans-Serif\" font-size=\"14.00\">alcohol ≤ 13.135</text>\n",
       "<text text-anchor=\"start\" x=\"1033.5\" y=\"-126.8\" font-family=\"Helvetica,sans-Serif\" font-size=\"14.00\">gini = 0.119</text>\n",
       "<text text-anchor=\"start\" x=\"1028\" y=\"-111.8\" font-family=\"Helvetica,sans-Serif\" font-size=\"14.00\">samples = 63</text>\n",
       "<text text-anchor=\"start\" x=\"1018.5\" y=\"-96.8\" font-family=\"Helvetica,sans-Serif\" font-size=\"14.00\">value = [59, 4, 0]</text>\n",
       "</g>\n",
       "<!-- 18&#45;&gt;20 -->\n",
       "<g id=\"edge20\" class=\"edge\"><title>18&#45;&gt;20</title>\n",
       "<path fill=\"none\" stroke=\"black\" d=\"M979.857,-192.884C991.96,-183.531 1005.25,-173.259 1017.79,-163.568\"/>\n",
       "<polygon fill=\"black\" stroke=\"black\" points=\"1020.13,-166.183 1025.91,-157.299 1015.85,-160.644 1020.13,-166.183\"/>\n",
       "</g>\n",
       "<!-- 21 -->\n",
       "<g id=\"node22\" class=\"node\"><title>21</title>\n",
       "<path fill=\"#e58139\" fill-opacity=\"0.572549\" stroke=\"black\" d=\"M1046,-53C1046,-53 960,-53 960,-53 954,-53 948,-47 948,-41 948,-41 948,-12 948,-12 948,-6 954,-0 960,-0 960,-0 1046,-0 1046,-0 1052,-0 1058,-6 1058,-12 1058,-12 1058,-41 1058,-41 1058,-47 1052,-53 1046,-53\"/>\n",
       "<text text-anchor=\"start\" x=\"971\" y=\"-37.8\" font-family=\"Helvetica,sans-Serif\" font-size=\"14.00\">gini = 0.42</text>\n",
       "<text text-anchor=\"start\" x=\"962\" y=\"-22.8\" font-family=\"Helvetica,sans-Serif\" font-size=\"14.00\">samples = 10</text>\n",
       "<text text-anchor=\"start\" x=\"956\" y=\"-7.8\" font-family=\"Helvetica,sans-Serif\" font-size=\"14.00\">value = [7, 3, 0]</text>\n",
       "</g>\n",
       "<!-- 20&#45;&gt;21 -->\n",
       "<g id=\"edge21\" class=\"edge\"><title>20&#45;&gt;21</title>\n",
       "<path fill=\"none\" stroke=\"black\" d=\"M1045.92,-88.9485C1039.72,-80.0749 1033.01,-70.4648 1026.77,-61.5388\"/>\n",
       "<polygon fill=\"black\" stroke=\"black\" points=\"1029.57,-59.4311 1020.97,-53.2367 1023.83,-63.4392 1029.57,-59.4311\"/>\n",
       "</g>\n",
       "<!-- 22 -->\n",
       "<g id=\"node23\" class=\"node\"><title>22</title>\n",
       "<path fill=\"#e58139\" fill-opacity=\"0.980392\" stroke=\"black\" d=\"M1181.5,-53C1181.5,-53 1088.5,-53 1088.5,-53 1082.5,-53 1076.5,-47 1076.5,-41 1076.5,-41 1076.5,-12 1076.5,-12 1076.5,-6 1082.5,-0 1088.5,-0 1088.5,-0 1181.5,-0 1181.5,-0 1187.5,-0 1193.5,-6 1193.5,-12 1193.5,-12 1193.5,-41 1193.5,-41 1193.5,-47 1187.5,-53 1181.5,-53\"/>\n",
       "<text text-anchor=\"start\" x=\"1099.5\" y=\"-37.8\" font-family=\"Helvetica,sans-Serif\" font-size=\"14.00\">gini = 0.037</text>\n",
       "<text text-anchor=\"start\" x=\"1094\" y=\"-22.8\" font-family=\"Helvetica,sans-Serif\" font-size=\"14.00\">samples = 53</text>\n",
       "<text text-anchor=\"start\" x=\"1084.5\" y=\"-7.8\" font-family=\"Helvetica,sans-Serif\" font-size=\"14.00\">value = [52, 1, 0]</text>\n",
       "</g>\n",
       "<!-- 20&#45;&gt;22 -->\n",
       "<g id=\"edge22\" class=\"edge\"><title>20&#45;&gt;22</title>\n",
       "<path fill=\"none\" stroke=\"black\" d=\"M1092.08,-88.9485C1098.28,-80.0749 1104.99,-70.4648 1111.23,-61.5388\"/>\n",
       "<polygon fill=\"black\" stroke=\"black\" points=\"1114.17,-63.4392 1117.03,-53.2367 1108.43,-59.4311 1114.17,-63.4392\"/>\n",
       "</g>\n",
       "</g>\n",
       "</svg>\n"
      ],
      "text/plain": [
       "<graphviz.files.Source at 0x7f091f9e9048>"
      ]
     },
     "execution_count": 204,
     "metadata": {},
     "output_type": "execute_result"
    }
   ],
   "source": [
    "dot_data_tree = export_graphviz(optimal_tree, out_file=None, \n",
    "                         feature_names=[wine_data.feature_names[feature1_index],wine_data.feature_names[feature2_index]],  \n",
    "                         filled=True, rounded=True,  \n",
    "                         special_characters=True) \n",
    "\n",
    "graphviz.Source(dot_data_tree)"
   ]
  },
  {
   "cell_type": "code",
   "execution_count": 201,
   "metadata": {},
   "outputs": [
    {
     "data": {
      "text/html": [
       "<iframe id=\"igraph\" scrolling=\"no\" style=\"border:none;\" seamless=\"seamless\" src=\"https://plot.ly/~vlandeau/58.embed\" height=\"525px\" width=\"100%\"></iframe>"
      ],
      "text/plain": [
       "<plotly.tools.PlotlyDisplay object>"
      ]
     },
     "execution_count": 201,
     "metadata": {},
     "output_type": "execute_result"
    }
   ],
   "source": [
    "feature1_index = 6\n",
    "feature2_index = 0\n",
    "\n",
    "x_min, x_max = wine_data.data[:, feature1_index].min() - 1, wine_data.data[:, feature1_index].max() + 1\n",
    "y_min, y_max = wine_data.data[:, feature2_index].min() - 1, wine_data.data[:, feature2_index].max() + 1\n",
    "xx, yy = np.meshgrid(np.arange(x_min, x_max, 0.1),\n",
    "                     np.arange(y_min, y_max, 0.1))\n",
    "y_ = np.arange(y_min, y_max, 0.1)\n",
    "z = optimal_tree.predict(np.c_[xx.ravel(), yy.ravel()]).reshape(xx.shape)\n",
    "\n",
    "trace0 = go.Scatter(\n",
    "    x = wine_data.data[wine_data.target == 0, feature1_index],\n",
    "    y = wine_data.data[wine_data.target == 0, feature2_index],\n",
    "    name = 'Type 0',\n",
    "    mode = 'markers',\n",
    "    marker = dict(\n",
    "        size = 10,\n",
    "        color = 'rgba(0, 0, 152, .8)',\n",
    "        line = dict(\n",
    "            width = 2,\n",
    "            color = 'rgb(0, 0, 0)'\n",
    "        )\n",
    "    )\n",
    ")\n",
    "\n",
    "trace1 = go.Scatter(\n",
    "    x = wine_data.data[wine_data.target == 1, feature1_index],\n",
    "    y = wine_data.data[wine_data.target == 1, feature2_index],\n",
    "    name = 'Type 1',\n",
    "    mode = 'markers',\n",
    "    marker = dict(\n",
    "        size = 10,\n",
    "        color = 'rgba(0, 152, 0, .8)',\n",
    "        line = dict(\n",
    "            width = 2,\n",
    "            color = 'rgb(0, 0, 0)'\n",
    "        )\n",
    "    )\n",
    ")\n",
    "\n",
    "trace2 = go.Scatter(\n",
    "    x = wine_data.data[wine_data.target == 2, feature1_index],\n",
    "    y = wine_data.data[wine_data.target == 2, feature2_index],\n",
    "    name = 'Type 2',\n",
    "    mode = 'markers',\n",
    "    marker = dict(\n",
    "        size = 10,\n",
    "        color = 'rgba(152, 0, 0, .8)',\n",
    "        line = dict(\n",
    "            width = 2,\n",
    "            color = 'rgb(0, 0, 0)'\n",
    "        )\n",
    "    )\n",
    ")\n",
    "\n",
    "contour = go.Contour(\n",
    "    x=xx[0], y=y_, \n",
    "    z=z,\n",
    "    colorscale=[[0, 'blue'],\n",
    "                [1, 'green'],\n",
    "                [2, 'red']\n",
    "               ],\n",
    "    opacity=0.5,\n",
    "    showscale=False\n",
    ")\n",
    "\n",
    "trace_unknowns = go.Scatter(\n",
    "    x = [3.5, 2.4],\n",
    "    y = [12.1, 13.2],\n",
    "    name = \"Inconnus\",\n",
    "    mode = \"markers\",\n",
    "    marker = dict(\n",
    "        size = 10,\n",
    "        color = 'rgba(0, 0, 0, 0.15)',\n",
    "        line = dict(width = 2,)\n",
    "    )\n",
    ")\n",
    "\n",
    "data = [trace0, trace1, trace2, contour, trace_unknowns]\n",
    "\n",
    "\n",
    "layout = dict(title = 'Vins',\n",
    "              xaxis = dict(title = wine_data.feature_names[feature1_index]),\n",
    "              yaxis = dict(title = wine_data.feature_names[feature2_index])\n",
    "             )\n",
    "\n",
    "py.iplot({\"data\": data, \"layout\": layout}, filename='basic-scatter')"
   ]
  },
  {
   "cell_type": "code",
   "execution_count": null,
   "metadata": {
    "collapsed": true
   },
   "outputs": [],
   "source": []
  }
 ],
 "metadata": {
  "kernelspec": {
   "display_name": "Python 3",
   "language": "python",
   "name": "python3"
  },
  "language_info": {
   "codemirror_mode": {
    "name": "ipython",
    "version": 3
   },
   "file_extension": ".py",
   "mimetype": "text/x-python",
   "name": "python",
   "nbconvert_exporter": "python",
   "pygments_lexer": "ipython3",
   "version": "3.6.3"
  }
 },
 "nbformat": 4,
 "nbformat_minor": 2
}
